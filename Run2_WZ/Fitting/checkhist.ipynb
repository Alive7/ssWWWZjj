{
 "cells": [
  {
   "cell_type": "code",
   "execution_count": 2,
   "metadata": {},
   "outputs": [],
   "source": [
    "import uproot\n",
    "from pathlib import Path\n",
    "import mplhep as hep\n",
    "import numpy as np\n",
    "\n",
    "hep.style.use(hep.style.ATLAS)\n",
    "import pandas as pd"
   ]
  },
  {
   "cell_type": "code",
   "execution_count": null,
   "metadata": {},
   "outputs": [],
   "source": [
    "hist_m350_path = \"/data/hrzhao/Samples/ssWWWZ_run3/MyOutputs/Fitting_WZ/hist_output/m350/hist_m350.root\"\n",
    "hist_m350 = uproot.open(hist_m350_path)"
   ]
  },
  {
   "cell_type": "code",
   "execution_count": null,
   "metadata": {},
   "outputs": [],
   "source": [
    "SR_keys = hist_m350.keys(filter_name=\"GMMVASR*\")"
   ]
  },
  {
   "cell_type": "code",
   "execution_count": null,
   "metadata": {},
   "outputs": [],
   "source": [
    "for SR_key in SR_keys:\n",
    "    print(hist_m350[SR_key].to_hist().sum())"
   ]
  },
  {
   "cell_type": "markdown",
   "metadata": {},
   "source": [
    "# Check Prefit Yield with BONLY Fit, Asimov "
   ]
  },
  {
   "cell_type": "code",
   "execution_count": 3,
   "metadata": {},
   "outputs": [],
   "source": [
    "import yaml\n",
    "\n",
    "SR_postfit_path = \"/data/hrzhao/Samples/ssWWWZ_run3/MyOutputs/Fitting_WZ/fit_output/WZ_ANN_m350_BONLY_Asimov/Plots/SR_prefit.yaml\"\n",
    "\n",
    "# Load the YAML file\n",
    "with open(SR_postfit_path, \"r\") as yaml_file:\n",
    "    data = yaml.safe_load(yaml_file)\n",
    "\n",
    "\n",
    "breakout_yield = {}\n",
    "m_WZ_bin_edges = np.array([150, 200, 230, 270, 310, 350, 390, 480, 660, 1200])\n",
    "m_WZ_bin_widths = np.diff(m_WZ_bin_edges)\n",
    "\n",
    "\n",
    "# Calculate the sum of each \"Yield\" list\n",
    "for item in data[\"Samples\"]:\n",
    "    breakout_yield[item[\"Name\"]] = sum(item[\"Yield\"] * m_WZ_bin_widths / 50.0)\n",
    "\n",
    "df_yield = pd.DataFrame.from_dict(breakout_yield, orient=\"index\", columns=[\"yield\"])"
   ]
  },
  {
   "cell_type": "code",
   "execution_count": 5,
   "metadata": {},
   "outputs": [],
   "source": [
    "df_yield.loc[\"total\"] = df_yield.sum()\n",
    "\n",
    "df_yield.loc[\"Data\"] = np.sum(data[\"Data\"][0][\"Yield\"] * m_WZ_bin_widths / 50.0)"
   ]
  },
  {
   "cell_type": "code",
   "execution_count": 6,
   "metadata": {},
   "outputs": [
    {
     "data": {
      "text/html": [
       "<div>\n",
       "<style scoped>\n",
       "    .dataframe tbody tr th:only-of-type {\n",
       "        vertical-align: middle;\n",
       "    }\n",
       "\n",
       "    .dataframe tbody tr th {\n",
       "        vertical-align: top;\n",
       "    }\n",
       "\n",
       "    .dataframe thead th {\n",
       "        text-align: right;\n",
       "    }\n",
       "</style>\n",
       "<table border=\"1\" class=\"dataframe\">\n",
       "  <thead>\n",
       "    <tr style=\"text-align: right;\">\n",
       "      <th></th>\n",
       "      <th>yield</th>\n",
       "    </tr>\n",
       "  </thead>\n",
       "  <tbody>\n",
       "    <tr>\n",
       "      <th>H_{5}^{#pm}(m350)</th>\n",
       "      <td>63.243590</td>\n",
       "    </tr>\n",
       "    <tr>\n",
       "      <th>W^{#pm}Z-QCD</th>\n",
       "      <td>36.525549</td>\n",
       "    </tr>\n",
       "    <tr>\n",
       "      <th>W^{#pm}Z-EWK</th>\n",
       "      <td>25.075573</td>\n",
       "    </tr>\n",
       "    <tr>\n",
       "      <th>ZZ</th>\n",
       "      <td>4.559074</td>\n",
       "    </tr>\n",
       "    <tr>\n",
       "      <th>VVV+t\\bar{t}V</th>\n",
       "      <td>0.818494</td>\n",
       "    </tr>\n",
       "    <tr>\n",
       "      <th>Fake/non-prompt</th>\n",
       "      <td>0.262897</td>\n",
       "    </tr>\n",
       "    <tr>\n",
       "      <th>total</th>\n",
       "      <td>130.485177</td>\n",
       "    </tr>\n",
       "    <tr>\n",
       "      <th>Data</th>\n",
       "      <td>66.000000</td>\n",
       "    </tr>\n",
       "  </tbody>\n",
       "</table>\n",
       "</div>"
      ],
      "text/plain": [
       "                        yield\n",
       "H_{5}^{#pm}(m350)   63.243590\n",
       "W^{#pm}Z-QCD        36.525549\n",
       "W^{#pm}Z-EWK        25.075573\n",
       "ZZ                   4.559074\n",
       "VVV+t\\bar{t}V        0.818494\n",
       "Fake/non-prompt      0.262897\n",
       "total              130.485177\n",
       "Data                66.000000"
      ]
     },
     "execution_count": 6,
     "metadata": {},
     "output_type": "execute_result"
    }
   ],
   "source": [
    "df_yield"
   ]
  },
  {
   "cell_type": "markdown",
   "metadata": {},
   "source": [
    "# Check Postfit Yield with BONLY Fit, Asimov "
   ]
  },
  {
   "cell_type": "code",
   "execution_count": 10,
   "metadata": {},
   "outputs": [],
   "source": [
    "import yaml\n",
    "\n",
    "SR_postfit_path = \"/data/hrzhao/Samples/ssWWWZ_run3/MyOutputs/Fitting_WZ/fit_output/WZ_ANN_m350_BONLY_Asimov/Plots/SR_postfit.yaml\"\n",
    "\n",
    "# Load the YAML file\n",
    "with open(SR_postfit_path, \"r\") as yaml_file:\n",
    "    data = yaml.safe_load(yaml_file)\n",
    "\n",
    "\n",
    "breakout_yield = {}\n",
    "m_WZ_bin_edges = np.array([150, 200, 230, 270, 310, 350, 390, 480, 660, 1200])\n",
    "m_WZ_bin_widths = np.diff(m_WZ_bin_edges)\n",
    "\n",
    "\n",
    "# Calculate the sum of each \"Yield\" list\n",
    "for item in data[\"Samples\"]:\n",
    "    breakout_yield[item[\"Name\"]] = sum(item[\"Yield\"] * m_WZ_bin_widths / 50.0)\n",
    "\n",
    "df_yield = pd.DataFrame.from_dict(breakout_yield, orient=\"index\", columns=[\"yield\"])\n",
    "\n",
    "df_yield.loc[\"total\"] = df_yield.sum()\n",
    "\n",
    "df_yield.loc[\"Data\"] = np.sum(data[\"Data\"][0][\"Yield\"] * m_WZ_bin_widths / 50.0)"
   ]
  },
  {
   "cell_type": "code",
   "execution_count": 22,
   "metadata": {},
   "outputs": [
    {
     "data": {
      "text/html": [
       "<div>\n",
       "<style scoped>\n",
       "    .dataframe tbody tr th:only-of-type {\n",
       "        vertical-align: middle;\n",
       "    }\n",
       "\n",
       "    .dataframe tbody tr th {\n",
       "        vertical-align: top;\n",
       "    }\n",
       "\n",
       "    .dataframe thead th {\n",
       "        text-align: right;\n",
       "    }\n",
       "</style>\n",
       "<table border=\"1\" class=\"dataframe\">\n",
       "  <thead>\n",
       "    <tr style=\"text-align: right;\">\n",
       "      <th></th>\n",
       "      <th>yield</th>\n",
       "    </tr>\n",
       "  </thead>\n",
       "  <tbody>\n",
       "    <tr>\n",
       "      <th>H_{5}^{#pm}(m350)</th>\n",
       "      <td>0.000000</td>\n",
       "    </tr>\n",
       "    <tr>\n",
       "      <th>W^{#pm}Z-QCD</th>\n",
       "      <td>43.626755</td>\n",
       "    </tr>\n",
       "    <tr>\n",
       "      <th>W^{#pm}Z-EWK</th>\n",
       "      <td>25.430144</td>\n",
       "    </tr>\n",
       "    <tr>\n",
       "      <th>ZZ</th>\n",
       "      <td>4.555057</td>\n",
       "    </tr>\n",
       "    <tr>\n",
       "      <th>VVV+t\\bar{t}V</th>\n",
       "      <td>0.831412</td>\n",
       "    </tr>\n",
       "    <tr>\n",
       "      <th>Fake/non-prompt</th>\n",
       "      <td>0.264837</td>\n",
       "    </tr>\n",
       "    <tr>\n",
       "      <th>total</th>\n",
       "      <td>74.708205</td>\n",
       "    </tr>\n",
       "    <tr>\n",
       "      <th>Data</th>\n",
       "      <td>66.000000</td>\n",
       "    </tr>\n",
       "  </tbody>\n",
       "</table>\n",
       "</div>"
      ],
      "text/plain": [
       "                       yield\n",
       "H_{5}^{#pm}(m350)   0.000000\n",
       "W^{#pm}Z-QCD       43.626755\n",
       "W^{#pm}Z-EWK       25.430144\n",
       "ZZ                  4.555057\n",
       "VVV+t\\bar{t}V       0.831412\n",
       "Fake/non-prompt     0.264837\n",
       "total              74.708205\n",
       "Data               66.000000"
      ]
     },
     "execution_count": 22,
     "metadata": {},
     "output_type": "execute_result"
    }
   ],
   "source": [
    "df_yield"
   ]
  },
  {
   "cell_type": "markdown",
   "metadata": {},
   "source": [
    "# Check Postfit Yield with BONLY Fit, Asimov2 "
   ]
  },
  {
   "cell_type": "code",
   "execution_count": 3,
   "metadata": {},
   "outputs": [
    {
     "data": {
      "text/html": [
       "<div>\n",
       "<style scoped>\n",
       "    .dataframe tbody tr th:only-of-type {\n",
       "        vertical-align: middle;\n",
       "    }\n",
       "\n",
       "    .dataframe tbody tr th {\n",
       "        vertical-align: top;\n",
       "    }\n",
       "\n",
       "    .dataframe thead th {\n",
       "        text-align: right;\n",
       "    }\n",
       "</style>\n",
       "<table border=\"1\" class=\"dataframe\">\n",
       "  <thead>\n",
       "    <tr style=\"text-align: right;\">\n",
       "      <th></th>\n",
       "      <th>yield</th>\n",
       "    </tr>\n",
       "  </thead>\n",
       "  <tbody>\n",
       "    <tr>\n",
       "      <th>H_{5}^{#pm}(m350)</th>\n",
       "      <td>0.000000</td>\n",
       "    </tr>\n",
       "    <tr>\n",
       "      <th>W^{#pm}Z-QCD</th>\n",
       "      <td>36.525972</td>\n",
       "    </tr>\n",
       "    <tr>\n",
       "      <th>W^{#pm}Z-EWK</th>\n",
       "      <td>25.075657</td>\n",
       "    </tr>\n",
       "    <tr>\n",
       "      <th>ZZ</th>\n",
       "      <td>4.558856</td>\n",
       "    </tr>\n",
       "    <tr>\n",
       "      <th>VVV+t\\bar{t}V</th>\n",
       "      <td>0.818498</td>\n",
       "    </tr>\n",
       "    <tr>\n",
       "      <th>Fake/non-prompt</th>\n",
       "      <td>0.262896</td>\n",
       "    </tr>\n",
       "    <tr>\n",
       "      <th>total</th>\n",
       "      <td>67.241880</td>\n",
       "    </tr>\n",
       "    <tr>\n",
       "      <th>Data</th>\n",
       "      <td>66.000000</td>\n",
       "    </tr>\n",
       "  </tbody>\n",
       "</table>\n",
       "</div>"
      ],
      "text/plain": [
       "                       yield\n",
       "H_{5}^{#pm}(m350)   0.000000\n",
       "W^{#pm}Z-QCD       36.525972\n",
       "W^{#pm}Z-EWK       25.075657\n",
       "ZZ                  4.558856\n",
       "VVV+t\\bar{t}V       0.818498\n",
       "Fake/non-prompt     0.262896\n",
       "total              67.241880\n",
       "Data               66.000000"
      ]
     },
     "execution_count": 3,
     "metadata": {},
     "output_type": "execute_result"
    }
   ],
   "source": [
    "import yaml\n",
    "\n",
    "SR_postfit_path = \"/data/hrzhao/Samples/ssWWWZ_run3/MyOutputs/Fitting_WZ/fit_output/WZ_ANN_m350_BONLY_Asimov2/Plots/SR_postfit.yaml\"\n",
    "\n",
    "# Load the YAML file\n",
    "with open(SR_postfit_path, \"r\") as yaml_file:\n",
    "    data = yaml.safe_load(yaml_file)\n",
    "\n",
    "\n",
    "breakout_yield = {}\n",
    "m_WZ_bin_edges = np.array([150, 200, 230, 270, 310, 350, 390, 480, 660, 1200])\n",
    "m_WZ_bin_widths = np.diff(m_WZ_bin_edges)\n",
    "\n",
    "\n",
    "# Calculate the sum of each \"Yield\" list\n",
    "for item in data[\"Samples\"]:\n",
    "    breakout_yield[item[\"Name\"]] = sum(item[\"Yield\"] * m_WZ_bin_widths / 50.0)\n",
    "\n",
    "df_yield = pd.DataFrame.from_dict(breakout_yield, orient=\"index\", columns=[\"yield\"])\n",
    "\n",
    "df_yield.loc[\"total\"] = df_yield.sum()\n",
    "\n",
    "df_yield.loc[\"Data\"] = np.sum(data[\"Data\"][0][\"Yield\"] * m_WZ_bin_widths / 50.0)\n",
    "\n",
    "df_yield"
   ]
  },
  {
   "cell_type": "code",
   "execution_count": 20,
   "metadata": {},
   "outputs": [
    {
     "data": {
      "text/plain": [
       "66.0"
      ]
     },
     "execution_count": 20,
     "metadata": {},
     "output_type": "execute_result"
    }
   ],
   "source": [
    "np.sum(data[\"Data\"][0][\"Yield\"] * m_WZ_bin_widths / 50.0)"
   ]
  },
  {
   "cell_type": "markdown",
   "metadata": {},
   "source": [
    "# Check Prefit Yield with BONLY Fit, Data "
   ]
  },
  {
   "cell_type": "code",
   "execution_count": 7,
   "metadata": {},
   "outputs": [],
   "source": [
    "import yaml\n",
    "\n",
    "SR_postfit_path = \"/data/hrzhao/Samples/ssWWWZ_run3/MyOutputs/Fitting_WZ/fit_output/WZ_ANN_m350_BONLY_Data/Plots/SR_prefit.yaml\"\n",
    "\n",
    "# Load the YAML file\n",
    "with open(SR_postfit_path, \"r\") as yaml_file:\n",
    "    data = yaml.safe_load(yaml_file)\n",
    "\n",
    "\n",
    "breakout_yield = {}\n",
    "m_WZ_bin_edges = np.array([150, 200, 230, 270, 310, 350, 390, 480, 660, 1200])\n",
    "m_WZ_bin_widths = np.diff(m_WZ_bin_edges)\n",
    "\n",
    "\n",
    "# Calculate the sum of each \"Yield\" list\n",
    "for item in data[\"Samples\"]:\n",
    "    breakout_yield[item[\"Name\"]] = sum(item[\"Yield\"] * m_WZ_bin_widths / 50.0)\n",
    "\n",
    "df_yield = pd.DataFrame.from_dict(breakout_yield, orient=\"index\", columns=[\"yield\"])\n",
    "\n",
    "df_yield.loc[\"total\"] = df_yield.sum()\n",
    "\n",
    "df_yield.loc[\"Data\"] = np.sum(data[\"Data\"][0][\"Yield\"] * m_WZ_bin_widths / 50.0)"
   ]
  },
  {
   "cell_type": "code",
   "execution_count": 8,
   "metadata": {},
   "outputs": [
    {
     "data": {
      "text/html": [
       "<div>\n",
       "<style scoped>\n",
       "    .dataframe tbody tr th:only-of-type {\n",
       "        vertical-align: middle;\n",
       "    }\n",
       "\n",
       "    .dataframe tbody tr th {\n",
       "        vertical-align: top;\n",
       "    }\n",
       "\n",
       "    .dataframe thead th {\n",
       "        text-align: right;\n",
       "    }\n",
       "</style>\n",
       "<table border=\"1\" class=\"dataframe\">\n",
       "  <thead>\n",
       "    <tr style=\"text-align: right;\">\n",
       "      <th></th>\n",
       "      <th>yield</th>\n",
       "    </tr>\n",
       "  </thead>\n",
       "  <tbody>\n",
       "    <tr>\n",
       "      <th>H_{5}^{#pm}(m350)</th>\n",
       "      <td>63.243590</td>\n",
       "    </tr>\n",
       "    <tr>\n",
       "      <th>W^{#pm}Z-QCD</th>\n",
       "      <td>36.525549</td>\n",
       "    </tr>\n",
       "    <tr>\n",
       "      <th>W^{#pm}Z-EWK</th>\n",
       "      <td>25.075573</td>\n",
       "    </tr>\n",
       "    <tr>\n",
       "      <th>ZZ</th>\n",
       "      <td>4.559074</td>\n",
       "    </tr>\n",
       "    <tr>\n",
       "      <th>VVV+t\\bar{t}V</th>\n",
       "      <td>0.818494</td>\n",
       "    </tr>\n",
       "    <tr>\n",
       "      <th>Fake/non-prompt</th>\n",
       "      <td>0.262897</td>\n",
       "    </tr>\n",
       "    <tr>\n",
       "      <th>total</th>\n",
       "      <td>130.485177</td>\n",
       "    </tr>\n",
       "    <tr>\n",
       "      <th>Data</th>\n",
       "      <td>66.000000</td>\n",
       "    </tr>\n",
       "  </tbody>\n",
       "</table>\n",
       "</div>"
      ],
      "text/plain": [
       "                        yield\n",
       "H_{5}^{#pm}(m350)   63.243590\n",
       "W^{#pm}Z-QCD        36.525549\n",
       "W^{#pm}Z-EWK        25.075573\n",
       "ZZ                   4.559074\n",
       "VVV+t\\bar{t}V        0.818494\n",
       "Fake/non-prompt      0.262897\n",
       "total              130.485177\n",
       "Data                66.000000"
      ]
     },
     "execution_count": 8,
     "metadata": {},
     "output_type": "execute_result"
    }
   ],
   "source": [
    "df_yield"
   ]
  },
  {
   "cell_type": "markdown",
   "metadata": {},
   "source": [
    "# Check Postfit Yield with BONLY Fit, Data "
   ]
  },
  {
   "cell_type": "code",
   "execution_count": 8,
   "metadata": {},
   "outputs": [],
   "source": [
    "import yaml\n",
    "\n",
    "SR_postfit_path = \"/data/hrzhao/Samples/ssWWWZ_run3/MyOutputs/Fitting_WZ/fit_output/WZ_ANN_m350_BONLY_Data/Plots/SR_postfit.yaml\"\n",
    "\n",
    "# Load the YAML file\n",
    "with open(SR_postfit_path, \"r\") as yaml_file:\n",
    "    data = yaml.safe_load(yaml_file)\n",
    "\n",
    "\n",
    "breakout_yield = {}\n",
    "m_WZ_bin_edges = np.array([150, 200, 230, 270, 310, 350, 390, 480, 660, 1200])\n",
    "m_WZ_bin_widths = np.diff(m_WZ_bin_edges)\n",
    "\n",
    "\n",
    "# Calculate the sum of each \"Yield\" list\n",
    "for item in data[\"Samples\"]:\n",
    "    breakout_yield[item[\"Name\"]] = sum(item[\"Yield\"] * m_WZ_bin_widths / 50.0)\n",
    "\n",
    "df_yield = pd.DataFrame.from_dict(breakout_yield, orient=\"index\", columns=[\"yield\"])"
   ]
  },
  {
   "cell_type": "code",
   "execution_count": 9,
   "metadata": {},
   "outputs": [
    {
     "data": {
      "text/html": [
       "<div>\n",
       "<style scoped>\n",
       "    .dataframe tbody tr th:only-of-type {\n",
       "        vertical-align: middle;\n",
       "    }\n",
       "\n",
       "    .dataframe tbody tr th {\n",
       "        vertical-align: top;\n",
       "    }\n",
       "\n",
       "    .dataframe thead th {\n",
       "        text-align: right;\n",
       "    }\n",
       "</style>\n",
       "<table border=\"1\" class=\"dataframe\">\n",
       "  <thead>\n",
       "    <tr style=\"text-align: right;\">\n",
       "      <th></th>\n",
       "      <th>yield</th>\n",
       "    </tr>\n",
       "  </thead>\n",
       "  <tbody>\n",
       "    <tr>\n",
       "      <th>H_{5}^{#pm}(m350)</th>\n",
       "      <td>0.000000</td>\n",
       "    </tr>\n",
       "    <tr>\n",
       "      <th>W^{#pm}Z-QCD</th>\n",
       "      <td>25.954637</td>\n",
       "    </tr>\n",
       "    <tr>\n",
       "      <th>W^{#pm}Z-EWK</th>\n",
       "      <td>25.085048</td>\n",
       "    </tr>\n",
       "    <tr>\n",
       "      <th>ZZ</th>\n",
       "      <td>4.658087</td>\n",
       "    </tr>\n",
       "    <tr>\n",
       "      <th>VVV+t\\bar{t}V</th>\n",
       "      <td>0.819078</td>\n",
       "    </tr>\n",
       "    <tr>\n",
       "      <th>Fake/non-prompt</th>\n",
       "      <td>0.264068</td>\n",
       "    </tr>\n",
       "  </tbody>\n",
       "</table>\n",
       "</div>"
      ],
      "text/plain": [
       "                       yield\n",
       "H_{5}^{#pm}(m350)   0.000000\n",
       "W^{#pm}Z-QCD       25.954637\n",
       "W^{#pm}Z-EWK       25.085048\n",
       "ZZ                  4.658087\n",
       "VVV+t\\bar{t}V       0.819078\n",
       "Fake/non-prompt     0.264068"
      ]
     },
     "execution_count": 9,
     "metadata": {},
     "output_type": "execute_result"
    }
   ],
   "source": [
    "df_yield"
   ]
  }
 ],
 "metadata": {
  "kernelspec": {
   "display_name": "ssWWWZjj",
   "language": "python",
   "name": "python3"
  },
  "language_info": {
   "codemirror_mode": {
    "name": "ipython",
    "version": 3
   },
   "file_extension": ".py",
   "mimetype": "text/x-python",
   "name": "python",
   "nbconvert_exporter": "python",
   "pygments_lexer": "ipython3",
   "version": "3.10.11"
  },
  "orig_nbformat": 4
 },
 "nbformat": 4,
 "nbformat_minor": 2
}
