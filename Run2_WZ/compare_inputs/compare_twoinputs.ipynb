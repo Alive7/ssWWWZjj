{
 "cells": [
  {
   "cell_type": "code",
   "execution_count": 7,
   "metadata": {},
   "outputs": [],
   "source": [
    "import uproot\n",
    "from pathlib import Path\n",
    "from typing import Union\n",
    "import logging\n",
    "import numpy as np\n",
    "from matplotlib import pyplot as plt\n",
    "import hist\n",
    "\n",
    "import mplhep as hep\n",
    "\n",
    "hep.style.use(hep.style.ATLAS)\n",
    "\n",
    "from utils.histograms import (\n",
    "    TH1tohist,\n",
    "    histtoTH1,\n",
    "    RebinTH1,\n",
    "    Rebinhist,\n",
    ")\n",
    "from utils.constants import myoutput_path\n",
    "from utils.processing import (\n",
    "    logging_setup,\n",
    "    check_inputpath,\n",
    "    check_outputpath,\n",
    ")"
   ]
  },
  {
   "cell_type": "code",
   "execution_count": 2,
   "metadata": {},
   "outputs": [],
   "source": [
    "histograms1 = uproot.open(\"/data/hrzhao/Samples/Run2_WZ/Finebin/ExportHistograms.root\")\n",
    "histograms2 = uproot.open(\n",
    "    \"/data/hrzhao/Samples/ssWWWZ_run3/information_Run2_WZHp/fit_inputs/histograms/Final/regularGMANN.root\"\n",
    ")"
   ]
  },
  {
   "cell_type": "code",
   "execution_count": 16,
   "metadata": {},
   "outputs": [],
   "source": [
    "hist_identifiers = [\"WZEW\", \"WZQCD\", \"VVV\", \"ZZ\", \"data\"]\n",
    "# \"FakeRenorm\" is gone in regularGMANN.root\n",
    "region_labels = [\"GMMVASR\", \"GMMVACR\", \"ZZCRJJ\"]\n",
    "m_WZ_bin_edges = np.array([150, 200, 230, 270, 310, 350, 390, 480, 660, 1200])\n",
    "m_WZ_bin_widths = np.diff(m_WZ_bin_edges)\n",
    "sig_mass_WZ = [200, 300, 350, 500]\n",
    "# sig_mass_WZ = [\n",
    "#     200,\n",
    "#     225,\n",
    "#     250,\n",
    "#     275,\n",
    "#     300,\n",
    "#     325,\n",
    "#     350,\n",
    "#     375,\n",
    "#     400,\n",
    "#     425,\n",
    "#     450,\n",
    "#     475,\n",
    "#     500,\n",
    "#     525,\n",
    "#     550,\n",
    "#     600,\n",
    "#     700,\n",
    "#     800,\n",
    "#     900,\n",
    "#     1000,\n",
    "# ]"
   ]
  },
  {
   "cell_type": "code",
   "execution_count": 4,
   "metadata": {},
   "outputs": [],
   "source": [
    "output_path = check_outputpath(\"comparision_plots\")"
   ]
  },
  {
   "cell_type": "code",
   "execution_count": 19,
   "metadata": {},
   "outputs": [
    {
     "name": "stderr",
     "output_type": "stream",
     "text": [
      "Warning in <TROOT::Append>: Replacing existing TH1: xaxis (Potential memory leak).\n",
      "Warning in <TROOT::Append>: Replacing existing TH1: xaxis (Potential memory leak).\n",
      "Warning in <TROOT::Append>: Replacing existing TH1: xaxis (Potential memory leak).\n",
      "Warning in <TROOT::Append>: Replacing existing TH1: xaxis (Potential memory leak).\n",
      "Warning in <TROOT::Append>: Replacing existing TH1: xaxis (Potential memory leak).\n",
      "Warning in <TROOT::Append>: Replacing existing TH1: xaxis (Potential memory leak).\n",
      "Warning in <TROOT::Append>: Replacing existing TH1: xaxis (Potential memory leak).\n",
      "Warning in <TROOT::Append>: Replacing existing TH1: xaxis (Potential memory leak).\n",
      "Warning in <TROOT::Append>: Replacing existing TH1: xaxis (Potential memory leak).\n",
      "Warning in <TROOT::Append>: Replacing existing TH1: xaxis (Potential memory leak).\n",
      "Warning in <TROOT::Append>: Replacing existing TH1: xaxis (Potential memory leak).\n",
      "Warning in <TROOT::Append>: Replacing existing TH1: xaxis (Potential memory leak).\n",
      "Warning in <TROOT::Append>: Replacing existing TH1: xaxis (Potential memory leak).\n",
      "Warning in <TROOT::Append>: Replacing existing TH1: xaxis (Potential memory leak).\n",
      "Warning in <TROOT::Append>: Replacing existing TH1: xaxis (Potential memory leak).\n"
     ]
    }
   ],
   "source": [
    "bkg_hists = {}\n",
    "for region_label in region_labels:\n",
    "    for hist_identifier in hist_identifiers:\n",
    "        hist_name = f\"{hist_identifier}_M_WZ_{region_label}\"  # WZEW_M_WZ_GMMVASR\n",
    "        unbined_hist = histograms1[hist_name].to_hist()\n",
    "        rebined_hist = Rebinhist(unbined_hist, m_WZ_bin_edges)\n",
    "\n",
    "        # Merge the overflow bin to the last bin\n",
    "        rebined_hist[-1] += rebined_hist[hist.overflow]\n",
    "        rebined_hist[0] += rebined_hist[hist.underflow]\n",
    "        rebined_hist[hist.overflow] = (0.0, 0.0)\n",
    "        rebined_hist[hist.underflow] = (0.0, 0.0)\n",
    "        hist1 = rebined_hist.copy()\n",
    "\n",
    "        _hist2 = histograms2[hist_name].to_hist()\n",
    "        hist2 = hist.Hist(\n",
    "            hist.axis.Variable(m_WZ_bin_edges, flow=True),\n",
    "            storage=hist.storage.Weight(),\n",
    "        )\n",
    "        hist2[:] = _hist2.view()\n",
    "\n",
    "        fig = plt.figure()\n",
    "        main_ax_artists, sublot_ax_arists = hist1.plot_ratio(\n",
    "            hist2,\n",
    "            rp_ylabel=r\"Ratio\",\n",
    "            rp_num_label=\"FineBin\",\n",
    "            rp_denom_label=\"regularGMANN\",\n",
    "            rp_uncert_draw_type=\"bar\",  # line or bar\n",
    "        )\n",
    "        plt.suptitle(hist_name)\n",
    "        fig.savefig(output_path / f\"{hist_name}.png\")\n",
    "\n",
    "        plt.close()\n",
    "\n",
    "        bkg_hists[hist_name] = [hist1, hist2]"
   ]
  },
  {
   "cell_type": "code",
   "execution_count": 18,
   "metadata": {},
   "outputs": [
    {
     "name": "stdout",
     "output_type": "stream",
     "text": [
      "Error in plotting GMvbf300_M_WZ_GMMVASR\n"
     ]
    },
    {
     "name": "stderr",
     "output_type": "stream",
     "text": [
      "/data/hrzhao/sw/miniconda3/envs/ssWWWZjj/lib/python3.10/site-packages/mplhep/error_estimation.py:49: RuntimeWarning: divide by zero encountered in divide\n",
      "  counts = sumw / scale\n"
     ]
    },
    {
     "name": "stdout",
     "output_type": "stream",
     "text": [
      "Error in plotting GMvbf500_M_WZ_GMMVASR\n",
      "Error in plotting GMvbf350_M_WZ_GMMVACR\n"
     ]
    },
    {
     "name": "stderr",
     "output_type": "stream",
     "text": [
      "/data/hrzhao/sw/miniconda3/envs/ssWWWZjj/lib/python3.10/site-packages/mplhep/error_estimation.py:49: RuntimeWarning: divide by zero encountered in divide\n",
      "  counts = sumw / scale\n",
      "/data/hrzhao/sw/miniconda3/envs/ssWWWZjj/lib/python3.10/site-packages/mplhep/error_estimation.py:49: RuntimeWarning: divide by zero encountered in divide\n",
      "  counts = sumw / scale\n",
      "/data/hrzhao/sw/miniconda3/envs/ssWWWZjj/lib/python3.10/site-packages/mplhep/error_estimation.py:49: RuntimeWarning: divide by zero encountered in divide\n",
      "  counts = sumw / scale\n"
     ]
    },
    {
     "name": "stdout",
     "output_type": "stream",
     "text": [
      "Error in plotting GMvbf300_M_WZ_ZZCRJJ\n",
      "Error in plotting GMvbf350_M_WZ_ZZCRJJ\n",
      "Error in plotting GMvbf500_M_WZ_ZZCRJJ\n"
     ]
    },
    {
     "name": "stderr",
     "output_type": "stream",
     "text": [
      "Warning in <TROOT::Append>: Replacing existing TH1: xaxis (Potential memory leak).\n",
      "Warning in <TROOT::Append>: Replacing existing TH1: xaxis (Potential memory leak).\n",
      "Warning in <TROOT::Append>: Replacing existing TH1: xaxis (Potential memory leak).\n",
      "Warning in <TROOT::Append>: Replacing existing TH1: xaxis (Potential memory leak).\n",
      "Warning in <TROOT::Append>: Replacing existing TH1: xaxis (Potential memory leak).\n",
      "Warning in <TROOT::Append>: Replacing existing TH1: xaxis (Potential memory leak).\n",
      "Warning in <TROOT::Append>: Replacing existing TH1: xaxis (Potential memory leak).\n",
      "Warning in <TROOT::Append>: Replacing existing TH1: xaxis (Potential memory leak).\n",
      "Warning in <TROOT::Append>: Replacing existing TH1: xaxis (Potential memory leak).\n",
      "Warning in <TROOT::Append>: Replacing existing TH1: xaxis (Potential memory leak).\n",
      "Warning in <TROOT::Append>: Replacing existing TH1: xaxis (Potential memory leak).\n",
      "Warning in <TROOT::Append>: Replacing existing TH1: xaxis (Potential memory leak).\n"
     ]
    }
   ],
   "source": [
    "# for signal\n",
    "sig_output_path = check_outputpath(\"comparision_plots/signal\")\n",
    "\n",
    "for region_label in region_labels:\n",
    "    for wp_mass in sig_mass_WZ:\n",
    "        hist_identifier = f\"GMvbf{wp_mass}\"\n",
    "        hist_name = f\"{hist_identifier}_M_WZ_{region_label}\"  # WZEW_M_WZ_GMMVASR\n",
    "        unbined_hist = histograms1[hist_name].to_hist()\n",
    "        rebined_hist = Rebinhist(unbined_hist, m_WZ_bin_edges)\n",
    "\n",
    "        # Merge the overflow bin to the last bin\n",
    "        rebined_hist[-1] += rebined_hist[hist.overflow]\n",
    "        rebined_hist[0] += rebined_hist[hist.underflow]\n",
    "        rebined_hist[hist.overflow] = (0.0, 0.0)\n",
    "        rebined_hist[hist.underflow] = (0.0, 0.0)\n",
    "        hist1 = rebined_hist.copy()\n",
    "\n",
    "        _hist2 = histograms2[hist_name].to_hist()\n",
    "        hist2 = hist.Hist(\n",
    "            hist.axis.Variable(m_WZ_bin_edges, flow=True),\n",
    "            storage=hist.storage.Weight(),\n",
    "        )\n",
    "        hist2[:] = _hist2.view()\n",
    "\n",
    "        try:\n",
    "            fig = plt.figure()\n",
    "            main_ax_artists, sublot_ax_arists = hist1.plot_ratio(\n",
    "                hist2,\n",
    "                rp_ylabel=r\"Ratio\",\n",
    "                rp_num_label=\"FineBin\",\n",
    "                rp_denom_label=\"regularGMANN\",\n",
    "                rp_uncert_draw_type=\"bar\",  # line or bar\n",
    "            )\n",
    "            plt.suptitle(hist_name)\n",
    "            fig.savefig(sig_output_path / f\"{hist_name}.png\")\n",
    "        except:\n",
    "            print(f\"Error in plotting {hist_name}\")\n",
    "        plt.close()"
   ]
  },
  {
   "cell_type": "markdown",
   "metadata": {},
   "source": [
    "# Count Yield"
   ]
  },
  {
   "cell_type": "code",
   "execution_count": 26,
   "metadata": {},
   "outputs": [],
   "source": [
    "rows = [*bkg_hists.keys()][:5]"
   ]
  },
  {
   "cell_type": "code",
   "execution_count": 33,
   "metadata": {},
   "outputs": [],
   "source": [
    "dict_yield = {}\n",
    "for row in rows:\n",
    "    dict_yield[row] = [_hist.values().sum() for _hist in bkg_hists[row]]"
   ]
  },
  {
   "cell_type": "code",
   "execution_count": 34,
   "metadata": {},
   "outputs": [
    {
     "data": {
      "text/plain": [
       "{'WZEW_M_WZ_GMMVASR': [25.075572729110718, 25.250463128089905],\n",
       " 'WZQCD_M_WZ_GMMVASR': [36.52554890885949, 36.81976318359375],\n",
       " 'VVV_M_WZ_GMMVASR': [0.8184943427331746, 0.17784502170979977],\n",
       " 'ZZ_M_WZ_GMMVASR': [4.559074188102386, 4.591837331652641],\n",
       " 'data_M_WZ_GMMVASR': [66.0, 66.0]}"
      ]
     },
     "execution_count": 34,
     "metadata": {},
     "output_type": "execute_result"
    }
   ],
   "source": [
    "dict_yield"
   ]
  },
  {
   "cell_type": "code",
   "execution_count": 38,
   "metadata": {},
   "outputs": [
    {
     "data": {
      "text/html": [
       "<div>\n",
       "<style scoped>\n",
       "    .dataframe tbody tr th:only-of-type {\n",
       "        vertical-align: middle;\n",
       "    }\n",
       "\n",
       "    .dataframe tbody tr th {\n",
       "        vertical-align: top;\n",
       "    }\n",
       "\n",
       "    .dataframe thead th {\n",
       "        text-align: right;\n",
       "    }\n",
       "</style>\n",
       "<table border=\"1\" class=\"dataframe\">\n",
       "  <thead>\n",
       "    <tr style=\"text-align: right;\">\n",
       "      <th></th>\n",
       "      <th>FineBin</th>\n",
       "      <th>regularGMANN</th>\n",
       "    </tr>\n",
       "  </thead>\n",
       "  <tbody>\n",
       "    <tr>\n",
       "      <th>WZEW_M_WZ_GMMVASR</th>\n",
       "      <td>25.075573</td>\n",
       "      <td>25.250463</td>\n",
       "    </tr>\n",
       "    <tr>\n",
       "      <th>WZQCD_M_WZ_GMMVASR</th>\n",
       "      <td>36.525549</td>\n",
       "      <td>36.819763</td>\n",
       "    </tr>\n",
       "    <tr>\n",
       "      <th>VVV_M_WZ_GMMVASR</th>\n",
       "      <td>0.818494</td>\n",
       "      <td>0.177845</td>\n",
       "    </tr>\n",
       "    <tr>\n",
       "      <th>ZZ_M_WZ_GMMVASR</th>\n",
       "      <td>4.559074</td>\n",
       "      <td>4.591837</td>\n",
       "    </tr>\n",
       "    <tr>\n",
       "      <th>data_M_WZ_GMMVASR</th>\n",
       "      <td>66.000000</td>\n",
       "      <td>66.000000</td>\n",
       "    </tr>\n",
       "  </tbody>\n",
       "</table>\n",
       "</div>"
      ],
      "text/plain": [
       "                      FineBin  regularGMANN\n",
       "WZEW_M_WZ_GMMVASR   25.075573     25.250463\n",
       "WZQCD_M_WZ_GMMVASR  36.525549     36.819763\n",
       "VVV_M_WZ_GMMVASR     0.818494      0.177845\n",
       "ZZ_M_WZ_GMMVASR      4.559074      4.591837\n",
       "data_M_WZ_GMMVASR   66.000000     66.000000"
      ]
     },
     "execution_count": 38,
     "metadata": {},
     "output_type": "execute_result"
    }
   ],
   "source": [
    "import pandas as pd\n",
    "\n",
    "pd.DataFrame.from_dict(dict_yield, orient=\"index\", columns=[\"FineBin\", \"regularGMANN\"])"
   ]
  },
  {
   "cell_type": "code",
   "execution_count": null,
   "metadata": {},
   "outputs": [],
   "source": []
  }
 ],
 "metadata": {
  "kernelspec": {
   "display_name": "ssWWWZjj",
   "language": "python",
   "name": "python3"
  },
  "language_info": {
   "codemirror_mode": {
    "name": "ipython",
    "version": 3
   },
   "file_extension": ".py",
   "mimetype": "text/x-python",
   "name": "python",
   "nbconvert_exporter": "python",
   "pygments_lexer": "ipython3",
   "version": "3.10.11"
  },
  "orig_nbformat": 4
 },
 "nbformat": 4,
 "nbformat_minor": 2
}
