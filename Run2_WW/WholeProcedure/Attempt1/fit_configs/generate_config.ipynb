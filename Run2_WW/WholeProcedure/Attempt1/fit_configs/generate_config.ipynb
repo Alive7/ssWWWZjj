{
 "cells": [
  {
   "cell_type": "code",
   "execution_count": 1,
   "metadata": {},
   "outputs": [],
   "source": [
    "import os\n",
    "from utils.constants import sig_mass_points\n",
    "from pathlib import Path"
   ]
  },
  {
   "cell_type": "code",
   "execution_count": 9,
   "metadata": {},
   "outputs": [
    {
     "name": "stdout",
     "output_type": "stream",
     "text": [
      "  Title: \"H_{5}^{#pm#pm}(200), s_{H}=0.5\"\n",
      "Generated ssWW_bdt_m200.config\n",
      "  Title: \"H_{5}^{#pm#pm}(200), s_{H}=0.5\"\n",
      "Generated ssWW_bdt_m225.config\n",
      "  Title: \"H_{5}^{#pm#pm}(200), s_{H}=0.5\"\n",
      "Generated ssWW_bdt_m250.config\n",
      "  Title: \"H_{5}^{#pm#pm}(200), s_{H}=0.5\"\n",
      "Generated ssWW_bdt_m275.config\n",
      "  Title: \"H_{5}^{#pm#pm}(200), s_{H}=0.5\"\n",
      "Generated ssWW_bdt_m300.config\n",
      "  Title: \"H_{5}^{#pm#pm}(200), s_{H}=0.5\"\n",
      "Generated ssWW_bdt_m325.config\n",
      "  Title: \"H_{5}^{#pm#pm}(200), s_{H}=0.5\"\n",
      "Generated ssWW_bdt_m350.config\n",
      "  Title: \"H_{5}^{#pm#pm}(200), s_{H}=0.5\"\n",
      "Generated ssWW_bdt_m375.config\n",
      "  Title: \"H_{5}^{#pm#pm}(200), s_{H}=0.5\"\n",
      "Generated ssWW_bdt_m400.config\n",
      "  Title: \"H_{5}^{#pm#pm}(200), s_{H}=0.5\"\n",
      "Generated ssWW_bdt_m425.config\n",
      "  Title: \"H_{5}^{#pm#pm}(200), s_{H}=0.5\"\n",
      "Generated ssWW_bdt_m450.config\n",
      "  Title: \"H_{5}^{#pm#pm}(200), s_{H}=0.5\"\n",
      "Generated ssWW_bdt_m475.config\n",
      "  Title: \"H_{5}^{#pm#pm}(200), s_{H}=0.5\"\n",
      "Generated ssWW_bdt_m500.config\n",
      "  Title: \"H_{5}^{#pm#pm}(200), s_{H}=0.5\"\n",
      "Generated ssWW_bdt_m525.config\n",
      "  Title: \"H_{5}^{#pm#pm}(200), s_{H}=0.5\"\n",
      "Generated ssWW_bdt_m550.config\n",
      "  Title: \"H_{5}^{#pm#pm}(200), s_{H}=0.5\"\n",
      "Generated ssWW_bdt_m600.config\n",
      "  Title: \"H_{5}^{#pm#pm}(200), s_{H}=0.5\"\n",
      "Generated ssWW_bdt_m700.config\n",
      "  Title: \"H_{5}^{#pm#pm}(200), s_{H}=0.5\"\n",
      "Generated ssWW_bdt_m800.config\n",
      "  Title: \"H_{5}^{#pm#pm}(200), s_{H}=0.5\"\n",
      "Generated ssWW_bdt_m900.config\n",
      "  Title: \"H_{5}^{#pm#pm}(200), s_{H}=0.5\"\n",
      "Generated ssWW_bdt_m1000.config\n",
      "  Title: \"H_{5}^{#pm#pm}(200), s_{H}=0.5\"\n",
      "Generated ssWW_bdt_m1500.config\n",
      "  Title: \"H_{5}^{#pm#pm}(200), s_{H}=0.5\"\n",
      "Generated ssWW_bdt_m2000.config\n",
      "  Title: \"H_{5}^{#pm#pm}(200), s_{H}=0.5\"\n",
      "Generated ssWW_bdt_m3000.config\n",
      "All files generated successfully.\n"
     ]
    }
   ],
   "source": [
    "config_path = Path(\"ssWW_bdt_m200.config\")\n",
    "config_filename = config_path.name\n",
    "\n",
    "# Read the contents of the config file\n",
    "with open(\"ssWW_bdt_m200.config\", \"r\") as file:\n",
    "    config = file.read()\n",
    "\n",
    "# Generate copies of the file and substitute \"m200\" with \"m450\"\n",
    "for wp_mass in sig_mass_points:  # Change the range as needed\n",
    "    new_config = config.replace(\"m200\", f\"m{wp_mass}\")\n",
    "    new_sh = 0.25 if wp_mass >= 900 else 0.5\n",
    "    new_line = f'  Title: \"H_{{5}}^{{#pm#pm}}({wp_mass}), s_{{H}}={new_sh}\"'\n",
    "    old_line = '  Title: \"H_{5}^{#pm#pm}(200), s_{H}=0.5\"'\n",
    "\n",
    "    new_config = new_config.replace(old_line, new_line)\n",
    "    new_config_filename = config_filename.replace(\"m200\", f\"m{wp_mass}\")\n",
    "    # Write the modified config to a new file\n",
    "    with open(new_config_filename, \"w\") as new_file:\n",
    "        new_file.write(new_config)\n",
    "\n",
    "    print(f\"Generated {new_config_filename}\")\n",
    "\n",
    "print(\"All files generated successfully.\")"
   ]
  },
  {
   "cell_type": "code",
   "execution_count": null,
   "metadata": {},
   "outputs": [],
   "source": []
  }
 ],
 "metadata": {
  "kernelspec": {
   "display_name": "ssWWWZjj",
   "language": "python",
   "name": "python3"
  },
  "language_info": {
   "codemirror_mode": {
    "name": "ipython",
    "version": 3
   },
   "file_extension": ".py",
   "mimetype": "text/x-python",
   "name": "python",
   "nbconvert_exporter": "python",
   "pygments_lexer": "ipython3",
   "version": "3.10.11"
  },
  "orig_nbformat": 4
 },
 "nbformat": 4,
 "nbformat_minor": 2
}
