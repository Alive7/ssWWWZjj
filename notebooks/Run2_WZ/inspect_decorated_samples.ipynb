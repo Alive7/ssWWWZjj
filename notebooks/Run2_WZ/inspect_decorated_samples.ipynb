{
 "cells": [
  {
   "cell_type": "code",
   "execution_count": 1,
   "metadata": {},
   "outputs": [
    {
     "name": "stdout",
     "output_type": "stream",
     "text": [
      "Welcome to JupyROOT 6.28/00\n"
     ]
    }
   ],
   "source": [
    "import uproot\n",
    "import numpy as np\n",
    "import pandas as pd\n",
    "import matplotlib.pyplot as plt\n",
    "import ROOT\n",
    "from pathlib import Path\n",
    "import mplhep as hep\n",
    "\n",
    "hep.style.use(hep.style.ATLAS)\n",
    "\n",
    "import re\n",
    "import joblib\n",
    "import logging\n",
    "from utils.utils import check_inputpath, check_outputpath, logging_setup"
   ]
  },
  {
   "cell_type": "code",
   "execution_count": 2,
   "metadata": {},
   "outputs": [],
   "source": [
    "workdir = Path(\"../../\")\n",
    "assert workdir.resolve().name == \"ssWWWZjj\""
   ]
  },
  {
   "attachments": {},
   "cell_type": "markdown",
   "metadata": {},
   "source": [
    "# Comapre GM 450GeV "
   ]
  },
  {
   "attachments": {},
   "cell_type": "markdown",
   "metadata": {},
   "source": [
    "## Cutflow"
   ]
  },
  {
   "cell_type": "code",
   "execution_count": null,
   "metadata": {},
   "outputs": [],
   "source": [
    "# This is for the un-decorated samples where a cutflow is stored in the ROOT file\n",
    "# GMH5_m450_ROOT = ROOT.TFile.Open(GM_sig_m450_path.as_posix())\n",
    "# GMH5_m450_ROOT.ls()\n",
    "\n",
    "# c1 = ROOT.TCanvas(\"c1\", \"c1\", 800, 600)\n",
    "# GMH5_m450_ROOT.Get(\"event_CutFlow\").Draw()\n",
    "# c1.Draw()"
   ]
  },
  {
   "attachments": {},
   "cell_type": "markdown",
   "metadata": {},
   "source": [
    "## Check GM H5 mass = 450 GeV"
   ]
  },
  {
   "cell_type": "code",
   "execution_count": 3,
   "metadata": {},
   "outputs": [],
   "source": [
    "GM_sig_m450_path = (\n",
    "    workdir\n",
    "    / \"samples/Run2_WZ_samples/decorated/GM_sig/resonance.450770_MGaMcAtNloPy8EG_A14NNPDF23LO_vbfGM_sH05_H5pWZ_lvll_m450_ntuples.root\"\n",
    ")\n",
    "GM_sig_m450_path = Path(GM_sig_m450_path)"
   ]
  },
  {
   "cell_type": "code",
   "execution_count": null,
   "metadata": {},
   "outputs": [],
   "source": [
    "GM_sig_m450 = uproot.open(GM_sig_m450_path)"
   ]
  },
  {
   "cell_type": "code",
   "execution_count": null,
   "metadata": {},
   "outputs": [],
   "source": [
    "GM_sig_m450.keys()"
   ]
  },
  {
   "cell_type": "code",
   "execution_count": null,
   "metadata": {},
   "outputs": [],
   "source": [
    "nominal_branchs = GM_sig_m450[\"nominal\"].keys()[0:93] + [\"Ht\", \"pSignal_GM\"]\n",
    "GM_sig_m450_nominal_branches = GM_sig_m450[\"nominal\"].arrays(nominal_branchs, library=\"pd\")"
   ]
  },
  {
   "cell_type": "code",
   "execution_count": null,
   "metadata": {},
   "outputs": [],
   "source": [
    "for branch in nominal_branchs:\n",
    "    print(branch)"
   ]
  },
  {
   "cell_type": "code",
   "execution_count": null,
   "metadata": {},
   "outputs": [],
   "source": [
    "##### Add cuts accrording to the table 1\n",
    "cut_GM_sig_m450 = GM_sig_m450_nominal_branches.copy()\n",
    "training_cutflow = {}\n",
    "# WZInclusive\n",
    "cut_GM_sig_m450 = cut_GM_sig_m450.loc[cut_GM_sig_m450[\"WZInclusive\"] == 1]\n",
    "training_cutflow[\"Cut WZInclusive\"] = len(cut_GM_sig_m450)\n",
    "print(f\"Cut WZInclusive: {len(cut_GM_sig_m450)}\")\n",
    "\n",
    "# N_j >= 2\n",
    "cut_GM_sig_m450 = cut_GM_sig_m450.loc[cut_GM_sig_m450[\"Njets\"] >= 2]\n",
    "training_cutflow[\"Cut Njets>=2\"] = len(cut_GM_sig_m450)\n",
    "print(f\"Cut Njets>=2: {len(cut_GM_sig_m450)}\")\n",
    "\n",
    "# b-jet veto\n",
    "cut_GM_sig_m450 = cut_GM_sig_m450.loc[cut_GM_sig_m450[\"NBjets\"] == 0]\n",
    "training_cutflow[\"Cut NBjets==0\"] = len(cut_GM_sig_m450)\n",
    "print(f\"Cut NBjets==0: {len(cut_GM_sig_m450)}\")\n",
    "\n",
    "# M_jj > 100 GeV\n",
    "cut_GM_sig_m450 = cut_GM_sig_m450.loc[cut_GM_sig_m450[\"M_jj\"] >= 100]\n",
    "training_cutflow[\"Cut M_jj>100GeV\"] = len(cut_GM_sig_m450)\n",
    "print(f\"Cut M_jj>100GeV: {len(cut_GM_sig_m450)}\")\n",
    "\n",
    "training_cutflow = pd.DataFrame(\n",
    "    {\n",
    "        \"training_cutflow\": training_cutflow.keys(),\n",
    "        \"cut_yield\": training_cutflow.values(),\n",
    "    }\n",
    ")"
   ]
  },
  {
   "cell_type": "code",
   "execution_count": null,
   "metadata": {},
   "outputs": [],
   "source": [
    "training_cutflow"
   ]
  },
  {
   "attachments": {},
   "cell_type": "markdown",
   "metadata": {},
   "source": [
    "# Check all H5 masses"
   ]
  },
  {
   "cell_type": "code",
   "execution_count": null,
   "metadata": {},
   "outputs": [],
   "source": [
    "##### Reproduce table 11"
   ]
  },
  {
   "cell_type": "code",
   "execution_count": 4,
   "metadata": {},
   "outputs": [],
   "source": [
    "input_path = workdir / \"samples/Run2_WZ_samples/decorated/\"\n",
    "input_path = Path(input_path)\n",
    "check_inputpath(input_path)\n",
    "\n",
    "GM_sig_path = input_path / \"GM_sig\""
   ]
  },
  {
   "cell_type": "code",
   "execution_count": 5,
   "metadata": {},
   "outputs": [],
   "source": [
    "def apply_training_cut(GM_sig_m_nominal_branches):\n",
    "    cut_GM_sig_m = GM_sig_m_nominal_branches.copy()\n",
    "    training_cutflow = {}\n",
    "    # WZInclusive\n",
    "    cut_GM_sig_m = cut_GM_sig_m.loc[cut_GM_sig_m[\"WZInclusive\"] == 1]\n",
    "    training_cutflow[\"Cut WZInclusive\"] = len(cut_GM_sig_m)\n",
    "\n",
    "    # N_j >= 2\n",
    "    cut_GM_sig_m = cut_GM_sig_m.loc[cut_GM_sig_m[\"Njets\"] >= 2]\n",
    "    training_cutflow[\"Cut Njets>=2\"] = len(cut_GM_sig_m)\n",
    "\n",
    "    # b-jet veto\n",
    "    cut_GM_sig_m = cut_GM_sig_m.loc[cut_GM_sig_m[\"NBjets\"] == 0]\n",
    "    training_cutflow[\"Cut NBjets==0\"] = len(cut_GM_sig_m)\n",
    "\n",
    "    # M_jj > 100 GeV\n",
    "    cut_GM_sig_m = cut_GM_sig_m.loc[cut_GM_sig_m[\"M_jj\"] >= 100]\n",
    "    training_cutflow[\"Cut M_jj>100GeV\"] = len(cut_GM_sig_m)\n",
    "\n",
    "    training_cutflow = pd.DataFrame(\n",
    "        {\n",
    "            \"training_cutflow\": training_cutflow.keys(),\n",
    "            \"cut_yield\": training_cutflow.values(),\n",
    "        }\n",
    "    )\n",
    "\n",
    "    raw_event_yield = len(cut_GM_sig_m)\n",
    "    normalized_event_yield = cut_GM_sig_m[\"WeightNormalized\"].sum()\n",
    "\n",
    "    return (\n",
    "        cut_GM_sig_m,\n",
    "        training_cutflow,\n",
    "        raw_event_yield,\n",
    "        normalized_event_yield,\n",
    "    )"
   ]
  },
  {
   "cell_type": "code",
   "execution_count": 6,
   "metadata": {},
   "outputs": [],
   "source": [
    "training_input_yield = {\n",
    "    \"mass\": [],\n",
    "    \"raw_event_yield\": [],\n",
    "    \"normalized_event_yield\": [],\n",
    "}\n",
    "\n",
    "re_mass_pattern = r\"m(\\d+)(?=[_ntuples,_lepfilt])\"\n",
    "\n",
    "merged_sig = []\n",
    "\n",
    "for GM_sig_file in sorted(GM_sig_path.glob(\"*.root\")):\n",
    "    GM_sig_file_name = GM_sig_file.name\n",
    "    match = re.search(re_mass_pattern, GM_sig_file_name)\n",
    "    if match:\n",
    "        mass = match.group(1)\n",
    "        mass = int(mass)\n",
    "    else:\n",
    "        raise ValueError(\"No mass found in file name\")\n",
    "\n",
    "    GM_sig_file = uproot.open(GM_sig_file)\n",
    "    nominal_branchs = GM_sig_file[\"nominal\"].keys()[0:93] + [\n",
    "        \"Ht\",\n",
    "        \"pSignal_GM\",\n",
    "    ]\n",
    "    GM_sig_m_nominal_branches = GM_sig_file[\"nominal\"].arrays(nominal_branchs, library=\"pd\")\n",
    "\n",
    "    (\n",
    "        cut_GM_sig_m,\n",
    "        training_cutflow,\n",
    "        raw_event_yield,\n",
    "        normalized_event_yield,\n",
    "    ) = apply_training_cut(GM_sig_m_nominal_branches)\n",
    "\n",
    "    cut_GM_sig_m[\"file_identifer\"] = f\"signal_m{mass}\"\n",
    "    cut_GM_sig_m[\"target\"] = 1\n",
    "    merged_sig.append(cut_GM_sig_m)\n",
    "    training_input_yield[\"mass\"].append(mass)\n",
    "    training_input_yield[\"raw_event_yield\"].append(raw_event_yield)\n",
    "    training_input_yield[\"normalized_event_yield\"].append(normalized_event_yield)"
   ]
  },
  {
   "cell_type": "code",
   "execution_count": 7,
   "metadata": {},
   "outputs": [],
   "source": [
    "training_input_yield = pd.DataFrame(training_input_yield)\n",
    "merged_sig = pd.concat(merged_sig)"
   ]
  },
  {
   "cell_type": "code",
   "execution_count": 11,
   "metadata": {},
   "outputs": [],
   "source": [
    "training_input_yield.loc[\"Total\"] = training_input_yield.sum()"
   ]
  },
  {
   "cell_type": "code",
   "execution_count": 12,
   "metadata": {},
   "outputs": [
    {
     "data": {
      "text/html": [
       "<div>\n",
       "<style scoped>\n",
       "    .dataframe tbody tr th:only-of-type {\n",
       "        vertical-align: middle;\n",
       "    }\n",
       "\n",
       "    .dataframe tbody tr th {\n",
       "        vertical-align: top;\n",
       "    }\n",
       "\n",
       "    .dataframe thead th {\n",
       "        text-align: right;\n",
       "    }\n",
       "</style>\n",
       "<table border=\"1\" class=\"dataframe\">\n",
       "  <thead>\n",
       "    <tr style=\"text-align: right;\">\n",
       "      <th></th>\n",
       "      <th>mass</th>\n",
       "      <th>raw_event_yield</th>\n",
       "      <th>normalized_event_yield</th>\n",
       "    </tr>\n",
       "  </thead>\n",
       "  <tbody>\n",
       "    <tr>\n",
       "      <th>0</th>\n",
       "      <td>200.0</td>\n",
       "      <td>12153.0</td>\n",
       "      <td>152.474777</td>\n",
       "    </tr>\n",
       "    <tr>\n",
       "      <th>1</th>\n",
       "      <td>250.0</td>\n",
       "      <td>27175.0</td>\n",
       "      <td>142.906448</td>\n",
       "    </tr>\n",
       "    <tr>\n",
       "      <th>2</th>\n",
       "      <td>300.0</td>\n",
       "      <td>30644.0</td>\n",
       "      <td>137.715607</td>\n",
       "    </tr>\n",
       "    <tr>\n",
       "      <th>3</th>\n",
       "      <td>350.0</td>\n",
       "      <td>37346.0</td>\n",
       "      <td>128.195175</td>\n",
       "    </tr>\n",
       "    <tr>\n",
       "      <th>4</th>\n",
       "      <td>400.0</td>\n",
       "      <td>42109.0</td>\n",
       "      <td>115.105957</td>\n",
       "    </tr>\n",
       "    <tr>\n",
       "      <th>5</th>\n",
       "      <td>450.0</td>\n",
       "      <td>40272.0</td>\n",
       "      <td>91.894867</td>\n",
       "    </tr>\n",
       "    <tr>\n",
       "      <th>6</th>\n",
       "      <td>500.0</td>\n",
       "      <td>46936.0</td>\n",
       "      <td>81.789330</td>\n",
       "    </tr>\n",
       "    <tr>\n",
       "      <th>7</th>\n",
       "      <td>225.0</td>\n",
       "      <td>23628.0</td>\n",
       "      <td>146.715729</td>\n",
       "    </tr>\n",
       "    <tr>\n",
       "      <th>8</th>\n",
       "      <td>275.0</td>\n",
       "      <td>29752.0</td>\n",
       "      <td>145.312027</td>\n",
       "    </tr>\n",
       "    <tr>\n",
       "      <th>9</th>\n",
       "      <td>325.0</td>\n",
       "      <td>35208.0</td>\n",
       "      <td>128.033997</td>\n",
       "    </tr>\n",
       "    <tr>\n",
       "      <th>10</th>\n",
       "      <td>375.0</td>\n",
       "      <td>39212.0</td>\n",
       "      <td>115.828972</td>\n",
       "    </tr>\n",
       "    <tr>\n",
       "      <th>11</th>\n",
       "      <td>425.0</td>\n",
       "      <td>42870.0</td>\n",
       "      <td>99.852531</td>\n",
       "    </tr>\n",
       "    <tr>\n",
       "      <th>12</th>\n",
       "      <td>475.0</td>\n",
       "      <td>46526.0</td>\n",
       "      <td>84.041611</td>\n",
       "    </tr>\n",
       "    <tr>\n",
       "      <th>13</th>\n",
       "      <td>525.0</td>\n",
       "      <td>55076.0</td>\n",
       "      <td>78.270653</td>\n",
       "    </tr>\n",
       "    <tr>\n",
       "      <th>14</th>\n",
       "      <td>550.0</td>\n",
       "      <td>56220.0</td>\n",
       "      <td>67.027687</td>\n",
       "    </tr>\n",
       "    <tr>\n",
       "      <th>15</th>\n",
       "      <td>600.0</td>\n",
       "      <td>57026.0</td>\n",
       "      <td>59.549583</td>\n",
       "    </tr>\n",
       "    <tr>\n",
       "      <th>16</th>\n",
       "      <td>700.0</td>\n",
       "      <td>61096.0</td>\n",
       "      <td>42.623154</td>\n",
       "    </tr>\n",
       "    <tr>\n",
       "      <th>17</th>\n",
       "      <td>800.0</td>\n",
       "      <td>61603.0</td>\n",
       "      <td>30.134409</td>\n",
       "    </tr>\n",
       "    <tr>\n",
       "      <th>18</th>\n",
       "      <td>900.0</td>\n",
       "      <td>62579.0</td>\n",
       "      <td>6.055534</td>\n",
       "    </tr>\n",
       "    <tr>\n",
       "      <th>19</th>\n",
       "      <td>1000.0</td>\n",
       "      <td>60643.0</td>\n",
       "      <td>4.343709</td>\n",
       "    </tr>\n",
       "    <tr>\n",
       "      <th>Total</th>\n",
       "      <td>9625.0</td>\n",
       "      <td>868074.0</td>\n",
       "      <td>1857.871948</td>\n",
       "    </tr>\n",
       "  </tbody>\n",
       "</table>\n",
       "</div>"
      ],
      "text/plain": [
       "         mass  raw_event_yield  normalized_event_yield\n",
       "0       200.0          12153.0              152.474777\n",
       "1       250.0          27175.0              142.906448\n",
       "2       300.0          30644.0              137.715607\n",
       "3       350.0          37346.0              128.195175\n",
       "4       400.0          42109.0              115.105957\n",
       "5       450.0          40272.0               91.894867\n",
       "6       500.0          46936.0               81.789330\n",
       "7       225.0          23628.0              146.715729\n",
       "8       275.0          29752.0              145.312027\n",
       "9       325.0          35208.0              128.033997\n",
       "10      375.0          39212.0              115.828972\n",
       "11      425.0          42870.0               99.852531\n",
       "12      475.0          46526.0               84.041611\n",
       "13      525.0          55076.0               78.270653\n",
       "14      550.0          56220.0               67.027687\n",
       "15      600.0          57026.0               59.549583\n",
       "16      700.0          61096.0               42.623154\n",
       "17      800.0          61603.0               30.134409\n",
       "18      900.0          62579.0                6.055534\n",
       "19     1000.0          60643.0                4.343709\n",
       "Total  9625.0         868074.0             1857.871948"
      ]
     },
     "execution_count": 12,
     "metadata": {},
     "output_type": "execute_result"
    }
   ],
   "source": [
    "training_input_yield"
   ]
  },
  {
   "cell_type": "code",
   "execution_count": 8,
   "metadata": {},
   "outputs": [
    {
     "data": {
      "text/plain": [
       "['merged_decorated_sig.pkl']"
      ]
     },
     "execution_count": 8,
     "metadata": {},
     "output_type": "execute_result"
    }
   ],
   "source": [
    "joblib.dump(merged_sig, \"merged_decorated_sig.pkl\")"
   ]
  },
  {
   "cell_type": "code",
   "execution_count": 9,
   "metadata": {},
   "outputs": [
    {
     "data": {
      "text/html": [
       "<div>\n",
       "<style scoped>\n",
       "    .dataframe tbody tr th:only-of-type {\n",
       "        vertical-align: middle;\n",
       "    }\n",
       "\n",
       "    .dataframe tbody tr th {\n",
       "        vertical-align: top;\n",
       "    }\n",
       "\n",
       "    .dataframe thead th {\n",
       "        text-align: right;\n",
       "    }\n",
       "</style>\n",
       "<table border=\"1\" class=\"dataframe\">\n",
       "  <thead>\n",
       "    <tr style=\"text-align: right;\">\n",
       "      <th></th>\n",
       "      <th>Yields</th>\n",
       "      <th>isMC</th>\n",
       "      <th>Channel</th>\n",
       "      <th>Year</th>\n",
       "      <th>NormSF</th>\n",
       "      <th>WeightSign</th>\n",
       "      <th>WeightNormalized</th>\n",
       "      <th>Weight</th>\n",
       "      <th>M_WZ</th>\n",
       "      <th>M_123</th>\n",
       "      <th>...</th>\n",
       "      <th>Lep1WeightW</th>\n",
       "      <th>Lep2WeightW</th>\n",
       "      <th>Lep3WeightW</th>\n",
       "      <th>Lep1Level</th>\n",
       "      <th>Lep2Level</th>\n",
       "      <th>Lep3Level</th>\n",
       "      <th>Ht</th>\n",
       "      <th>pSignal_GM</th>\n",
       "      <th>file_identifer</th>\n",
       "      <th>target</th>\n",
       "    </tr>\n",
       "  </thead>\n",
       "  <tbody>\n",
       "    <tr>\n",
       "      <th>3</th>\n",
       "      <td>0</td>\n",
       "      <td>450765</td>\n",
       "      <td>3</td>\n",
       "      <td>1516</td>\n",
       "      <td>0.783916</td>\n",
       "      <td>0.0</td>\n",
       "      <td>-0.079258</td>\n",
       "      <td>-0.101105</td>\n",
       "      <td>187.706635</td>\n",
       "      <td>144.789856</td>\n",
       "      <td>...</td>\n",
       "      <td>0.969956</td>\n",
       "      <td>0.990138</td>\n",
       "      <td>0.995931</td>\n",
       "      <td>123</td>\n",
       "      <td>123</td>\n",
       "      <td>123</td>\n",
       "      <td>508.242188</td>\n",
       "      <td>0.781384</td>\n",
       "      <td>signal_m200</td>\n",
       "      <td>1</td>\n",
       "    </tr>\n",
       "    <tr>\n",
       "      <th>11</th>\n",
       "      <td>0</td>\n",
       "      <td>450765</td>\n",
       "      <td>2</td>\n",
       "      <td>1516</td>\n",
       "      <td>0.783916</td>\n",
       "      <td>0.0</td>\n",
       "      <td>-0.053379</td>\n",
       "      <td>-0.068093</td>\n",
       "      <td>270.459198</td>\n",
       "      <td>156.205460</td>\n",
       "      <td>...</td>\n",
       "      <td>0.996840</td>\n",
       "      <td>0.998581</td>\n",
       "      <td>0.978706</td>\n",
       "      <td>123</td>\n",
       "      <td>123</td>\n",
       "      <td>123</td>\n",
       "      <td>295.828552</td>\n",
       "      <td>0.887640</td>\n",
       "      <td>signal_m200</td>\n",
       "      <td>1</td>\n",
       "    </tr>\n",
       "    <tr>\n",
       "      <th>14</th>\n",
       "      <td>0</td>\n",
       "      <td>450765</td>\n",
       "      <td>3</td>\n",
       "      <td>1516</td>\n",
       "      <td>0.783916</td>\n",
       "      <td>0.0</td>\n",
       "      <td>0.042182</td>\n",
       "      <td>0.053809</td>\n",
       "      <td>196.065414</td>\n",
       "      <td>165.009293</td>\n",
       "      <td>...</td>\n",
       "      <td>0.971638</td>\n",
       "      <td>0.966696</td>\n",
       "      <td>0.998496</td>\n",
       "      <td>123</td>\n",
       "      <td>123</td>\n",
       "      <td>123</td>\n",
       "      <td>274.689301</td>\n",
       "      <td>0.922267</td>\n",
       "      <td>signal_m200</td>\n",
       "      <td>1</td>\n",
       "    </tr>\n",
       "    <tr>\n",
       "      <th>16</th>\n",
       "      <td>0</td>\n",
       "      <td>450765</td>\n",
       "      <td>2</td>\n",
       "      <td>1516</td>\n",
       "      <td>0.783916</td>\n",
       "      <td>0.0</td>\n",
       "      <td>-0.066834</td>\n",
       "      <td>-0.085256</td>\n",
       "      <td>200.703903</td>\n",
       "      <td>140.544388</td>\n",
       "      <td>...</td>\n",
       "      <td>0.995598</td>\n",
       "      <td>0.981509</td>\n",
       "      <td>0.902356</td>\n",
       "      <td>123</td>\n",
       "      <td>123</td>\n",
       "      <td>123</td>\n",
       "      <td>288.953735</td>\n",
       "      <td>0.939477</td>\n",
       "      <td>signal_m200</td>\n",
       "      <td>1</td>\n",
       "    </tr>\n",
       "    <tr>\n",
       "      <th>22</th>\n",
       "      <td>0</td>\n",
       "      <td>450765</td>\n",
       "      <td>1</td>\n",
       "      <td>1516</td>\n",
       "      <td>0.783916</td>\n",
       "      <td>0.0</td>\n",
       "      <td>0.072323</td>\n",
       "      <td>0.092259</td>\n",
       "      <td>221.749603</td>\n",
       "      <td>144.889526</td>\n",
       "      <td>...</td>\n",
       "      <td>0.990660</td>\n",
       "      <td>0.975106</td>\n",
       "      <td>0.995559</td>\n",
       "      <td>123</td>\n",
       "      <td>123</td>\n",
       "      <td>123</td>\n",
       "      <td>261.893311</td>\n",
       "      <td>0.621475</td>\n",
       "      <td>signal_m200</td>\n",
       "      <td>1</td>\n",
       "    </tr>\n",
       "  </tbody>\n",
       "</table>\n",
       "<p>5 rows × 97 columns</p>\n",
       "</div>"
      ],
      "text/plain": [
       "    Yields    isMC  Channel  Year    NormSF  WeightSign  WeightNormalized  \\\n",
       "3        0  450765        3  1516  0.783916         0.0         -0.079258   \n",
       "11       0  450765        2  1516  0.783916         0.0         -0.053379   \n",
       "14       0  450765        3  1516  0.783916         0.0          0.042182   \n",
       "16       0  450765        2  1516  0.783916         0.0         -0.066834   \n",
       "22       0  450765        1  1516  0.783916         0.0          0.072323   \n",
       "\n",
       "      Weight        M_WZ       M_123  ...  Lep1WeightW  Lep2WeightW  \\\n",
       "3  -0.101105  187.706635  144.789856  ...     0.969956     0.990138   \n",
       "11 -0.068093  270.459198  156.205460  ...     0.996840     0.998581   \n",
       "14  0.053809  196.065414  165.009293  ...     0.971638     0.966696   \n",
       "16 -0.085256  200.703903  140.544388  ...     0.995598     0.981509   \n",
       "22  0.092259  221.749603  144.889526  ...     0.990660     0.975106   \n",
       "\n",
       "    Lep3WeightW  Lep1Level  Lep2Level  Lep3Level          Ht  pSignal_GM  \\\n",
       "3      0.995931        123        123        123  508.242188    0.781384   \n",
       "11     0.978706        123        123        123  295.828552    0.887640   \n",
       "14     0.998496        123        123        123  274.689301    0.922267   \n",
       "16     0.902356        123        123        123  288.953735    0.939477   \n",
       "22     0.995559        123        123        123  261.893311    0.621475   \n",
       "\n",
       "    file_identifer  target  \n",
       "3      signal_m200       1  \n",
       "11     signal_m200       1  \n",
       "14     signal_m200       1  \n",
       "16     signal_m200       1  \n",
       "22     signal_m200       1  \n",
       "\n",
       "[5 rows x 97 columns]"
      ]
     },
     "execution_count": 9,
     "metadata": {},
     "output_type": "execute_result"
    }
   ],
   "source": [
    "merged_sig.head()"
   ]
  },
  {
   "attachments": {},
   "cell_type": "markdown",
   "metadata": {},
   "source": [
    "# Merge Bkg"
   ]
  },
  {
   "cell_type": "code",
   "execution_count": 13,
   "metadata": {},
   "outputs": [
    {
     "data": {
      "text/plain": [
       "PosixPath('../../samples/Run2_WZ_samples/decorated/bkg')"
      ]
     },
     "execution_count": 13,
     "metadata": {},
     "output_type": "execute_result"
    }
   ],
   "source": [
    "bkg_path = input_path / \"bkg\"\n",
    "check_inputpath(bkg_path)"
   ]
  },
  {
   "cell_type": "code",
   "execution_count": 14,
   "metadata": {},
   "outputs": [
    {
     "data": {
      "text/plain": [
       "[PosixPath('../../samples/Run2_WZ_samples/decorated/bkg/resonance.364253_Sherpa_222_NNPDF30NNLO_lllv_ntuples.root'),\n",
       " PosixPath('../../samples/Run2_WZ_samples/decorated/bkg/resonance.364739_MGPy8EG_NNPDF30NLO_A14NNPDF23LO_lvlljjEW6_OFMinus_ntuples.root'),\n",
       " PosixPath('../../samples/Run2_WZ_samples/decorated/bkg/resonance.364740_MGPy8EG_NNPDF30NLO_A14NNPDF23LO_lvlljjEW6_OFPlus_ntuples.root'),\n",
       " PosixPath('../../samples/Run2_WZ_samples/decorated/bkg/resonance.364741_MGPy8EG_NNPDF30NLO_A14NNPDF23LO_lvlljjEW6_SFMinus_ntuples.root'),\n",
       " PosixPath('../../samples/Run2_WZ_samples/decorated/bkg/resonance.364742_MGPy8EG_NNPDF30NLO_A14NNPDF23LO_lvlljjEW6_SFPlus_ntuples.root')]"
      ]
     },
     "execution_count": 14,
     "metadata": {},
     "output_type": "execute_result"
    }
   ],
   "source": [
    "sorted(bkg_path.iterdir())"
   ]
  },
  {
   "cell_type": "code",
   "execution_count": 15,
   "metadata": {},
   "outputs": [],
   "source": [
    "training_input_yield_bkg = {\n",
    "    \"name\": [],\n",
    "    \"raw_event_yield\": [],\n",
    "    \"normalized_event_yield\": [],\n",
    "}\n",
    "\n",
    "merged_bkg = []\n",
    "\n",
    "for bkg_file in sorted(bkg_path.glob(\"*.root\")):\n",
    "    bkg_file_name = bkg_file.name\n",
    "    bkg_file = uproot.open(bkg_file)\n",
    "    nominal_branchs = bkg_file[\"nominal\"].keys()[0:93] + [\"Ht\", \"pSignal_GM\"]\n",
    "    bkg_nominal_branches = bkg_file[\"nominal\"].arrays(nominal_branchs, library=\"pd\")\n",
    "\n",
    "    (\n",
    "        cut_bkg,\n",
    "        training_cutflow,\n",
    "        raw_event_yield,\n",
    "        normalized_event_yield,\n",
    "    ) = apply_training_cut(bkg_nominal_branches)\n",
    "\n",
    "    cut_bkg[\"file_identifer\"] = bkg_file_name\n",
    "    cut_bkg[\"target\"] = 0\n",
    "    merged_bkg.append(cut_bkg)\n",
    "\n",
    "    training_input_yield_bkg[\"name\"].append(bkg_file_name)\n",
    "    training_input_yield_bkg[\"raw_event_yield\"].append(raw_event_yield)\n",
    "    training_input_yield_bkg[\"normalized_event_yield\"].append(normalized_event_yield)"
   ]
  },
  {
   "cell_type": "code",
   "execution_count": 16,
   "metadata": {},
   "outputs": [],
   "source": [
    "training_input_yield_bkg = pd.DataFrame(training_input_yield_bkg)\n",
    "training_input_yield_bkg.loc[\"Total\"] = training_input_yield_bkg.sum()"
   ]
  },
  {
   "cell_type": "code",
   "execution_count": 17,
   "metadata": {},
   "outputs": [
    {
     "data": {
      "text/html": [
       "<div>\n",
       "<style scoped>\n",
       "    .dataframe tbody tr th:only-of-type {\n",
       "        vertical-align: middle;\n",
       "    }\n",
       "\n",
       "    .dataframe tbody tr th {\n",
       "        vertical-align: top;\n",
       "    }\n",
       "\n",
       "    .dataframe thead th {\n",
       "        text-align: right;\n",
       "    }\n",
       "</style>\n",
       "<table border=\"1\" class=\"dataframe\">\n",
       "  <thead>\n",
       "    <tr style=\"text-align: right;\">\n",
       "      <th></th>\n",
       "      <th>name</th>\n",
       "      <th>raw_event_yield</th>\n",
       "      <th>normalized_event_yield</th>\n",
       "    </tr>\n",
       "  </thead>\n",
       "  <tbody>\n",
       "    <tr>\n",
       "      <th>0</th>\n",
       "      <td>resonance.364253_Sherpa_222_NNPDF30NNLO_lllv_n...</td>\n",
       "      <td>816454</td>\n",
       "      <td>2973.739502</td>\n",
       "    </tr>\n",
       "    <tr>\n",
       "      <th>1</th>\n",
       "      <td>resonance.364739_MGPy8EG_NNPDF30NLO_A14NNPDF23...</td>\n",
       "      <td>25815</td>\n",
       "      <td>40.750809</td>\n",
       "    </tr>\n",
       "    <tr>\n",
       "      <th>2</th>\n",
       "      <td>resonance.364740_MGPy8EG_NNPDF30NLO_A14NNPDF23...</td>\n",
       "      <td>35364</td>\n",
       "      <td>64.986855</td>\n",
       "    </tr>\n",
       "    <tr>\n",
       "      <th>3</th>\n",
       "      <td>resonance.364741_MGPy8EG_NNPDF30NLO_A14NNPDF23...</td>\n",
       "      <td>24430</td>\n",
       "      <td>38.421360</td>\n",
       "    </tr>\n",
       "    <tr>\n",
       "      <th>4</th>\n",
       "      <td>resonance.364742_MGPy8EG_NNPDF30NLO_A14NNPDF23...</td>\n",
       "      <td>30272</td>\n",
       "      <td>61.633919</td>\n",
       "    </tr>\n",
       "    <tr>\n",
       "      <th>Total</th>\n",
       "      <td>resonance.364253_Sherpa_222_NNPDF30NNLO_lllv_n...</td>\n",
       "      <td>932335</td>\n",
       "      <td>3179.532471</td>\n",
       "    </tr>\n",
       "  </tbody>\n",
       "</table>\n",
       "</div>"
      ],
      "text/plain": [
       "                                                    name  raw_event_yield  \\\n",
       "0      resonance.364253_Sherpa_222_NNPDF30NNLO_lllv_n...           816454   \n",
       "1      resonance.364739_MGPy8EG_NNPDF30NLO_A14NNPDF23...            25815   \n",
       "2      resonance.364740_MGPy8EG_NNPDF30NLO_A14NNPDF23...            35364   \n",
       "3      resonance.364741_MGPy8EG_NNPDF30NLO_A14NNPDF23...            24430   \n",
       "4      resonance.364742_MGPy8EG_NNPDF30NLO_A14NNPDF23...            30272   \n",
       "Total  resonance.364253_Sherpa_222_NNPDF30NNLO_lllv_n...           932335   \n",
       "\n",
       "       normalized_event_yield  \n",
       "0                 2973.739502  \n",
       "1                   40.750809  \n",
       "2                   64.986855  \n",
       "3                   38.421360  \n",
       "4                   61.633919  \n",
       "Total             3179.532471  "
      ]
     },
     "execution_count": 17,
     "metadata": {},
     "output_type": "execute_result"
    }
   ],
   "source": [
    "training_input_yield_bkg"
   ]
  },
  {
   "cell_type": "code",
   "execution_count": 18,
   "metadata": {},
   "outputs": [],
   "source": [
    "merged_bkg = pd.concat(merged_bkg)"
   ]
  },
  {
   "cell_type": "code",
   "execution_count": null,
   "metadata": {},
   "outputs": [],
   "source": [
    "np.sum(merged_bkg[\"WZVBSSR\"])"
   ]
  },
  {
   "cell_type": "code",
   "execution_count": 19,
   "metadata": {},
   "outputs": [
    {
     "data": {
      "text/plain": [
       "['merged_decorated_bkg.pkl']"
      ]
     },
     "execution_count": 19,
     "metadata": {},
     "output_type": "execute_result"
    }
   ],
   "source": [
    "joblib.dump(merged_bkg, \"merged_decorated_bkg.pkl\")"
   ]
  },
  {
   "attachments": {},
   "cell_type": "markdown",
   "metadata": {},
   "source": [
    "# Signal vs Bkg "
   ]
  },
  {
   "cell_type": "code",
   "execution_count": null,
   "metadata": {},
   "outputs": [],
   "source": [
    "plots_path = Path(\"./plots_sigvsbkg\")\n",
    "check_outputpath(plots_path)"
   ]
  },
  {
   "cell_type": "code",
   "execution_count": null,
   "metadata": {},
   "outputs": [],
   "source": [
    "merged_sig.columns"
   ]
  },
  {
   "cell_type": "code",
   "execution_count": null,
   "metadata": {},
   "outputs": [],
   "source": [
    "np.sum(merged_sig[\"WZVBSSR\"])"
   ]
  },
  {
   "cell_type": "code",
   "execution_count": null,
   "metadata": {},
   "outputs": [],
   "source": [
    "def compare_sigvsbkg(feature, merged_sig, merged_bkg):\n",
    "    feature_min = np.min([np.min(merged_sig[feature]), np.min(merged_bkg[feature])])\n",
    "    feature_max = np.max([np.max(merged_sig[feature]), np.max(merged_bkg[feature])])\n",
    "    if feature == \"M_jj\":\n",
    "        feature_min = 0\n",
    "        feature_max = 5000\n",
    "    elif feature == \"Met\":\n",
    "        feature_min = 0\n",
    "        feature_max = 400\n",
    "    elif feature == \"Jet1Pt\":\n",
    "        feature_min = 0\n",
    "        feature_max = 600\n",
    "    elif feature == \"Jet2Pt\":\n",
    "        feature_min = 0\n",
    "        feature_max = 300\n",
    "    elif feature == \"Ht\":\n",
    "        feature_min = 0\n",
    "        feature_max = 1500\n",
    "\n",
    "    feature_bins = np.linspace(feature_min, feature_max, 101)\n",
    "    sig_bin_contents, sig_bin_edges = np.histogram(\n",
    "        merged_sig[feature],\n",
    "        bins=feature_bins,\n",
    "        density=True,\n",
    "        weights=merged_sig[\"WeightNormalized\"],\n",
    "    )\n",
    "    bkg_bin_contents, bkg_bin_edges = np.histogram(\n",
    "        merged_bkg[feature],\n",
    "        bins=feature_bins,\n",
    "        density=True,\n",
    "        weights=merged_bkg[\"WeightNormalized\"],\n",
    "    )\n",
    "\n",
    "    bin_content_max = np.max([np.max(sig_bin_contents), np.max(bkg_bin_contents)])\n",
    "    fig, ax = plt.subplots()\n",
    "    ax.set_xlim(feature_min, feature_max)\n",
    "    ax.set_ylim(0, bin_content_max * 1.3)\n",
    "\n",
    "    hep.histplot(sig_bin_contents, sig_bin_edges, label=\"Signal\", ax=ax, color=\"red\")\n",
    "    hep.histplot(\n",
    "        bkg_bin_contents,\n",
    "        bkg_bin_edges,\n",
    "        label=\"Background\",\n",
    "        ax=ax,\n",
    "        color=\"blue\",\n",
    "    )\n",
    "\n",
    "    hep.atlas.label(\"Internal\", data=False)\n",
    "    hep.atlas.set_ylabel(\"Normalized to unity\")\n",
    "    hep.atlas.set_xlabel(feature)\n",
    "    ax.legend()\n",
    "\n",
    "    fig.savefig(plots_path / f\"{feature}.png\")"
   ]
  },
  {
   "cell_type": "code",
   "execution_count": null,
   "metadata": {},
   "outputs": [],
   "source": [
    "features = [\n",
    "    \"Deta_jj\",\n",
    "    \"Dphi_jj\",\n",
    "    \"M_jj\",\n",
    "    \"Met\",\n",
    "    \"ZetaLep\",\n",
    "    \"Jet1Pt\",\n",
    "    \"Jet1Eta\",\n",
    "    \"Jet2Pt\",\n",
    "    \"Jet2Eta\",\n",
    "    \"Ht\",\n",
    "    \"Eta_W\",\n",
    "    \"Eta_Z\",\n",
    "    \"Lep1Eta\",\n",
    "    \"Lep2Eta\",\n",
    "    \"Lep3Eta\",\n",
    "    \"pSignal_GM\",\n",
    "]\n",
    "\n",
    "for feature in features:\n",
    "    compare_sigvsbkg(feature, merged_sig, merged_bkg)"
   ]
  },
  {
   "cell_type": "code",
   "execution_count": null,
   "metadata": {},
   "outputs": [],
   "source": []
  }
 ],
 "metadata": {
  "kernelspec": {
   "display_name": "ml",
   "language": "python",
   "name": "python3"
  },
  "language_info": {
   "codemirror_mode": {
    "name": "ipython",
    "version": 3
   },
   "file_extension": ".py",
   "mimetype": "text/x-python",
   "name": "python",
   "nbconvert_exporter": "python",
   "pygments_lexer": "ipython3",
   "version": "3.10.11"
  },
  "orig_nbformat": 4
 },
 "nbformat": 4,
 "nbformat_minor": 2
}
