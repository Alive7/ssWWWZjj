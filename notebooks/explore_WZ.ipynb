{
 "cells": [
  {
   "cell_type": "code",
   "execution_count": 2,
   "metadata": {},
   "outputs": [],
   "source": [
    "import uproot\n",
    "import numpy as np\n",
    "import pandas as pd\n",
    "import matplotlib.pyplot as plt\n",
    "import ROOT\n",
    "from pathlib import Path\n",
    "import mplhep as hep\n",
    "\n",
    "hep.style.use(hep.style.ATLAS)\n",
    "\n",
    "import re\n",
    "import joblib\n",
    "import logging\n",
    "# from utils.utils import check_inputpath, check_outputpath, logging_setup"
   ]
  },
  {
   "cell_type": "code",
   "execution_count": 3,
   "metadata": {},
   "outputs": [],
   "source": [
    "merged_sig = joblib.load(\"merged_decorated_sig.pkl\")"
   ]
  },
  {
   "cell_type": "code",
   "execution_count": 4,
   "metadata": {},
   "outputs": [
    {
     "data": {
      "text/plain": [
       "['AvMu',\n",
       " 'Channel',\n",
       " 'CrossSection',\n",
       " 'DY_jj',\n",
       " 'Deta_jj',\n",
       " 'Dphi_jj',\n",
       " 'Eta_W',\n",
       " 'Eta_Z',\n",
       " 'EventNumber',\n",
       " 'Ht',\n",
       " 'Jet1E',\n",
       " 'Jet1Eta',\n",
       " 'Jet1Phi',\n",
       " 'Jet1Pt',\n",
       " 'Jet1Truth',\n",
       " 'Jet1Y',\n",
       " 'Jet2E',\n",
       " 'Jet2Eta',\n",
       " 'Jet2Phi',\n",
       " 'Jet2Pt',\n",
       " 'Jet2Truth',\n",
       " 'Jet2Y',\n",
       " 'Jet3E',\n",
       " 'Jet3Eta',\n",
       " 'Jet3Phi',\n",
       " 'Jet3Pt',\n",
       " 'Jet3Truth',\n",
       " 'Jet3Y',\n",
       " 'LTcode',\n",
       " 'Lep1Charge',\n",
       " 'Lep1D0Sig',\n",
       " 'Lep1Eta',\n",
       " 'Lep1Level',\n",
       " 'Lep1Phi',\n",
       " 'Lep1Pt',\n",
       " 'Lep1WeightW',\n",
       " 'Lep1WeightZ',\n",
       " 'Lep2Charge',\n",
       " 'Lep2D0Sig',\n",
       " 'Lep2Eta',\n",
       " 'Lep2Level',\n",
       " 'Lep2Phi',\n",
       " 'Lep2Pt',\n",
       " 'Lep2WeightW',\n",
       " 'Lep2WeightZ',\n",
       " 'Lep3Charge',\n",
       " 'Lep3D0Sig',\n",
       " 'Lep3Eta',\n",
       " 'Lep3Level',\n",
       " 'Lep3Phi',\n",
       " 'Lep3Pt',\n",
       " 'Lep3WeightW',\n",
       " 'Lep3WeightZ',\n",
       " 'Luminosity',\n",
       " 'M_123',\n",
       " 'M_WZ',\n",
       " 'M_Z',\n",
       " 'M_jj',\n",
       " 'Met',\n",
       " 'Mt_W',\n",
       " 'Mt_WZ',\n",
       " 'NBjets',\n",
       " 'Njets',\n",
       " 'NormSF',\n",
       " 'PtBalanceW',\n",
       " 'PtBalanceZ',\n",
       " 'Pt_123',\n",
       " 'Pt_W',\n",
       " 'Pt_WZ',\n",
       " 'Pt_Z',\n",
       " 'Sum3Pt',\n",
       " 'SumOfWeight',\n",
       " 'TopCR',\n",
       " 'TopElCR',\n",
       " 'TopMuCR',\n",
       " 'TruthType',\n",
       " 'WZInclusive',\n",
       " 'WZInclusiveLoose',\n",
       " 'WZVBSCR',\n",
       " 'WZVBSSR',\n",
       " 'WZqqCR',\n",
       " 'WZqqSR',\n",
       " 'Weight',\n",
       " 'WeightNormalized',\n",
       " 'WeightSign',\n",
       " 'Year',\n",
       " 'Yields',\n",
       " 'ZZCR',\n",
       " 'ZetaLep',\n",
       " 'ZfakeCR',\n",
       " 'ZfakeElCR',\n",
       " 'ZfakeMuCR',\n",
       " 'genMass',\n",
       " 'isMC',\n",
       " 'pSignal_GM']"
      ]
     },
     "execution_count": 4,
     "metadata": {},
     "output_type": "execute_result"
    }
   ],
   "source": [
    "sorted(merged_sig.columns)"
   ]
  },
  {
   "attachments": {},
   "cell_type": "markdown",
   "metadata": {},
   "source": [
    "# Branch Name exploration \n",
    "\n",
    "For a jet, several attributes are recorded, `E, Eta, Phi, Pt, Truth, Y`.    \n",
    "For a lepton, they are \n",
    "```\n",
    " 'Lep1Charge',\n",
    " 'Lep1D0Sig',\n",
    " 'Lep1Eta',\n",
    " 'Lep1Level',\n",
    " 'Lep1Phi',\n",
    " 'Lep1Pt',\n",
    " 'Lep1WeightW',\n",
    " 'Lep1WeightZ',\n",
    "```"
   ]
  },
  {
   "attachments": {},
   "cell_type": "markdown",
   "metadata": {},
   "source": [
    "### LTCode\n",
    "``` cpp \n",
    "      if(m_pass_TTVA) m_LTcode = (m_Lep1Level>=122) * 2*2 + (m_Lep2Level>=122) * 2 + (m_Lep3Level>=123);\n",
    "      else m_LTcode = -1;\n",
    "\n",
    "``` "
   ]
  },
  {
   "cell_type": "code",
   "execution_count": 5,
   "metadata": {},
   "outputs": [
    {
     "data": {
      "text/plain": [
       "array([7], dtype=int32)"
      ]
     },
     "execution_count": 5,
     "metadata": {},
     "output_type": "execute_result"
    }
   ],
   "source": [
    "np.unique(merged_sig['LTcode'])"
   ]
  },
  {
   "attachments": {},
   "cell_type": "markdown",
   "metadata": {},
   "source": [
    "# Pile Up Jet study "
   ]
  },
  {
   "attachments": {},
   "cell_type": "markdown",
   "metadata": {},
   "source": [
    "## AvMu distribution"
   ]
  },
  {
   "cell_type": "code",
   "execution_count": 6,
   "metadata": {},
   "outputs": [
    {
     "data": {
      "text/plain": [
       "array([  17,   18, 1516], dtype=int32)"
      ]
     },
     "execution_count": 6,
     "metadata": {},
     "output_type": "execute_result"
    }
   ],
   "source": [
    "np.unique(merged_sig['Year'])"
   ]
  },
  {
   "cell_type": "code",
   "execution_count": 7,
   "metadata": {},
   "outputs": [],
   "source": [
    "merged_sig_by_year = merged_sig.groupby('Year')"
   ]
  },
  {
   "cell_type": "code",
   "execution_count": 8,
   "metadata": {},
   "outputs": [
    {
     "name": "stdout",
     "output_type": "stream",
     "text": [
      "Year: 17, AvMu: 35.942386627197266\n",
      "Year: 18, AvMu: 35.412864685058594\n",
      "Year: 1516, AvMu: 22.518798828125\n"
     ]
    },
    {
     "data": {
      "text/plain": [
       "[]"
      ]
     },
     "execution_count": 8,
     "metadata": {},
     "output_type": "execute_result"
    },
    {
     "data": {
      "image/png": "[encoded data removed]",
      "text/plain": [
       "<Figure size 800x600 with 1 Axes>"
      ]
     },
     "metadata": {},
     "output_type": "display_data"
    }
   ],
   "source": [
    "fig, ax = plt.subplots(figsize=(8, 6)) \n",
    "# AvMu_max = merged_sig['AvMu'].max()\n",
    "# AvMu_min = merged_sig['AvMu'].min()\n",
    "AvMu_max = 80\n",
    "AvMu_min = 0\n",
    "bin_edges = np.linspace(AvMu_min, AvMu_max, 101)\n",
    "\n",
    "for year, year_df in merged_sig_by_year:\n",
    "    print(f\"Year: {year}, AvMu: {np.average(year_df['AvMu'], weights=year_df['WeightNormalized'])}\")\n",
    "    ax.hist(year_df['AvMu'], weights=year_df['WeightNormalized'],\n",
    "             bins=bin_edges, histtype='stepfilled', alpha=0.5,\n",
    "             label=year, density=False)\n",
    "\n",
    "ax.legend()\n",
    "ax.plot()"
   ]
  },
  {
   "cell_type": "code",
   "execution_count": 9,
   "metadata": {},
   "outputs": [
    {
     "name": "stdout",
     "output_type": "stream",
     "text": [
      "Year: 17, AvMu: 38.45370864868164\n",
      "Year: 18, AvMu: 37.925384521484375\n",
      "Year: 1516, AvMu: 23.377843856811523\n"
     ]
    },
    {
     "data": {
      "text/plain": [
       "[]"
      ]
     },
     "execution_count": 9,
     "metadata": {},
     "output_type": "execute_result"
    },
    {
     "data": {
      "image/png": "[encoded data removed]",
      "text/plain": [
       "<Figure size 800x600 with 1 Axes>"
      ]
     },
     "metadata": {},
     "output_type": "display_data"
    }
   ],
   "source": [
    "fig, ax = plt.subplots(figsize=(8, 6)) \n",
    "# AvMu_max = merged_sig['AvMu'].max()\n",
    "# AvMu_min = merged_sig['AvMu'].min()\n",
    "AvMu_max = 80\n",
    "AvMu_min = 0\n",
    "bin_edges = np.linspace(AvMu_min, AvMu_max, 101)\n",
    "\n",
    "for year, year_df in merged_sig_by_year:\n",
    "    print(f\"Year: {year}, AvMu: {year_df['AvMu'].mean()}\")\n",
    "    ax.hist(year_df['AvMu'],\n",
    "             bins=bin_edges, histtype='stepfilled', alpha=0.5,\n",
    "             label=year, density=False)\n",
    "\n",
    "ax.legend()\n",
    "ax.plot()"
   ]
  },
  {
   "attachments": {},
   "cell_type": "markdown",
   "metadata": {},
   "source": [
    "## Compare with official \n",
    "Compared with the ATLAS luminosity   \n",
    "![mu_2015_2018.png](https://atlas.web.cern.ch/Atlas/GROUPS/DATAPREPARATION/PublicPlots/2018/DataSummary/figs/mu_2015_2018.png)"
   ]
  },
  {
   "attachments": {},
   "cell_type": "markdown",
   "metadata": {},
   "source": [
    "## Feature studies "
   ]
  },
  {
   "attachments": {},
   "cell_type": "markdown",
   "metadata": {},
   "source": [
    "### Jet?Truth"
   ]
  },
  {
   "attachments": {},
   "cell_type": "markdown",
   "metadata": {},
   "source": [
    "The `Jet?Truth` definition is:  \n",
    "``` cpp\n",
    "      m_Jet1Truth = -999;\n",
    "      if(eventPtr->nGoodJets>0) m_Jet1Truth = (eventPtr->jets.at(eventPtr->nGoodJets-1).truthMatched);\n",
    "      m_Jet2Truth = -999;\n",
    "      if(eventPtr->nGoodJets>1) m_Jet2Truth = (eventPtr->jets.at(eventPtr->nGoodJets-2).truthMatched);\n",
    "      m_Jet3Truth = -999;\n",
    "      if(eventPtr->nGoodJets>2) m_Jet3Truth = (eventPtr->jets.at(eventPtr->nGoodJets-3).truthMatched);\n",
    "```  \n",
    "\n",
    "if `truthMatched` == 1, `Jet1Truth` == 1. \n",
    "\n"
   ]
  },
  {
   "cell_type": "code",
   "execution_count": 10,
   "metadata": {},
   "outputs": [
    {
     "data": {
      "text/plain": [
       "(array([0, 1], dtype=int32), array([  6827, 861247]))"
      ]
     },
     "execution_count": 10,
     "metadata": {},
     "output_type": "execute_result"
    }
   ],
   "source": [
    "np.unique(merged_sig['Jet1Truth'], return_counts=True)"
   ]
  },
  {
   "cell_type": "code",
   "execution_count": 11,
   "metadata": {},
   "outputs": [
    {
     "data": {
      "text/plain": [
       "(array([0, 1], dtype=int32), array([ 34874, 833200]))"
      ]
     },
     "execution_count": 11,
     "metadata": {},
     "output_type": "execute_result"
    }
   ],
   "source": [
    "np.unique(merged_sig['Jet2Truth'], return_counts=True)"
   ]
  },
  {
   "cell_type": "code",
   "execution_count": 12,
   "metadata": {},
   "outputs": [
    {
     "data": {
      "text/plain": [
       "(array([-999,    0,    1], dtype=int32), array([637456,  42902, 187716]))"
      ]
     },
     "execution_count": 12,
     "metadata": {},
     "output_type": "execute_result"
    }
   ],
   "source": [
    "np.unique(merged_sig['Jet3Truth'], return_counts=True)"
   ]
  },
  {
   "attachments": {},
   "cell_type": "markdown",
   "metadata": {},
   "source": [
    "### JetTruth Stats"
   ]
  },
  {
   "cell_type": "code",
   "execution_count": 13,
   "metadata": {},
   "outputs": [],
   "source": [
    "merged_sig['Event_JetTruth'] = merged_sig['Jet1Truth'] * merged_sig['Jet2Truth']"
   ]
  },
  {
   "cell_type": "code",
   "execution_count": 14,
   "metadata": {},
   "outputs": [],
   "source": [
    "unique_values, counts = np.unique(merged_sig['Event_JetTruth'], return_counts=True)"
   ]
  },
  {
   "cell_type": "code",
   "execution_count": 15,
   "metadata": {},
   "outputs": [],
   "source": [
    "yields = np.bincount(merged_sig['Event_JetTruth'], weights=merged_sig['WeightNormalized'])"
   ]
  },
  {
   "cell_type": "code",
   "execution_count": 16,
   "metadata": {},
   "outputs": [],
   "source": [
    "stats = pd.DataFrame(columns=unique_values, data=[counts, yields], index=['counts', 'yields']).T"
   ]
  },
  {
   "cell_type": "code",
   "execution_count": 17,
   "metadata": {},
   "outputs": [
    {
     "name": "stdout",
     "output_type": "stream",
     "text": [
      "     counts       yields  count_frac  yield_frac\n",
      "0   40766.0   110.497597    0.046961    0.059475\n",
      "1  827308.0  1747.374165    0.953039    0.940525\n"
     ]
    }
   ],
   "source": [
    "stats['count_frac'] = stats['counts'] / stats['counts'].sum()\n",
    "stats['yield_frac'] = stats['yields'] / stats['yields'].sum()\n",
    "print(stats)"
   ]
  },
  {
   "cell_type": "code",
   "execution_count": 31,
   "metadata": {},
   "outputs": [],
   "source": [
    "mu_bins = np.linspace(0, 100, 11)\n",
    "merged_sig['AvMu_binidx'] = pd.cut(merged_sig['AvMu'], bins=mu_bins, labels=False)"
   ]
  },
  {
   "cell_type": "code",
   "execution_count": 73,
   "metadata": {},
   "outputs": [
    {
     "data": {
      "text/plain": [
       "99.5"
      ]
     },
     "execution_count": 73,
     "metadata": {},
     "output_type": "execute_result"
    }
   ],
   "source": [
    "np.max(merged_sig['AvMu'])"
   ]
  },
  {
   "cell_type": "code",
   "execution_count": 32,
   "metadata": {},
   "outputs": [],
   "source": [
    "grouped_merged_sig_byAvMu = merged_sig.groupby('AvMu_binidx')"
   ]
  },
  {
   "cell_type": "code",
   "execution_count": 47,
   "metadata": {},
   "outputs": [],
   "source": [
    "frac = []\n",
    "for idx, idx_df in grouped_merged_sig_byAvMu:\n",
    "    yield_idx = np.bincount(idx_df['Event_JetTruth'], weights=idx_df['WeightNormalized'])\n",
    "    frac_idx = yield_idx / yield_idx.sum()\n",
    "    frac.append(frac_idx)\n",
    "frac = np.array(frac) "
   ]
  },
  {
   "cell_type": "code",
   "execution_count": 48,
   "metadata": {},
   "outputs": [
    {
     "data": {
      "text/plain": [
       "array([[ 8.18531034e-04,  9.99181469e-01],\n",
       "       [ 3.53470997e-02,  9.64652900e-01],\n",
       "       [ 4.83228971e-02,  9.51677103e-01],\n",
       "       [ 6.05243790e-02,  9.39475621e-01],\n",
       "       [ 7.09768695e-02,  9.29023131e-01],\n",
       "       [ 1.23186208e-01,  8.76813792e-01],\n",
       "       [ 7.28969123e-02,  9.27103088e-01],\n",
       "       [ 2.37461999e-01,  7.62538001e-01],\n",
       "       [-2.26225638e-01,  1.22622564e+00],\n",
       "       [-1.16526314e-01,  1.11652631e+00]])"
      ]
     },
     "execution_count": 48,
     "metadata": {},
     "output_type": "execute_result"
    }
   ],
   "source": [
    "frac"
   ]
  },
  {
   "cell_type": "code",
   "execution_count": 37,
   "metadata": {},
   "outputs": [],
   "source": [
    "import seaborn as sns "
   ]
  },
  {
   "cell_type": "code",
   "execution_count": 53,
   "metadata": {},
   "outputs": [
    {
     "data": {
      "text/plain": [
       "<matplotlib.legend.Legend at 0x31e032da0>"
      ]
     },
     "execution_count": 53,
     "metadata": {},
     "output_type": "execute_result"
    },
    {
     "data": {
      "image/png": "[encoded data removed]",
      "text/plain": [
       "<Figure size 800x600 with 1 Axes>"
      ]
     },
     "metadata": {},
     "output_type": "display_data"
    }
   ],
   "source": [
    "bin_centers = (mu_bins[1:] + mu_bins[:-1]) / 2 \n",
    "bin_width = mu_bins[1] - mu_bins[0]\n",
    "fig, ax = plt.subplots(figsize=(8, 6))\n",
    "plt.bar(bin_centers, height=frac[:,0], width=bin_width, bottom=np.zeros_like(frac[:,0]), align='center', label='JetNotTruthMatrched')\n",
    "plt.bar(bin_centers, height=frac[:,1], width=bin_width, bottom=frac[:,0], align='center', label='JetTruthMatched')\n",
    "plt.legend()"
   ]
  },
  {
   "attachments": {},
   "cell_type": "markdown",
   "metadata": {},
   "source": [
    "### TruthType"
   ]
  },
  {
   "attachments": {},
   "cell_type": "markdown",
   "metadata": {},
   "source": [
    "The `TruthType` definition is:\n",
    "``` cpp\n",
    "      m_TruthType = -1;\n",
    "      if(eventPtr->isMC){\n",
    "        m_TruthType = eventPtr->Lep1.truthMatched * 2*2 + eventPtr->Lep2.truthMatched * 2 + eventPtr->Lep3.truthMatched;\n",
    "      }\n",
    "\n",
    "```\n",
    "\n",
    "It's similar to the Linux priviledge scheme, 4 + 2 + 1 = 7  \n",
    "```\n",
    "1: Only the 3rd Lep is truth Matched   \n",
    "2: Only the 2nd Lep is truth Matched   \n",
    "4: Only the 1st Lep is truth Matched   \n",
    "5: the 1st and the 3rd Leps are truth Matched  \n",
    "6: the 1st and the 2nd Leps are truth Matched   \n",
    "7: all three leptons are truth Matched     \n",
    "```"
   ]
  },
  {
   "attachments": {},
   "cell_type": "markdown",
   "metadata": {},
   "source": [
    "# peak study "
   ]
  },
  {
   "cell_type": "code",
   "execution_count": null,
   "metadata": {},
   "outputs": [],
   "source": [
    "feature = 'ZetaLep'"
   ]
  },
  {
   "cell_type": "code",
   "execution_count": null,
   "metadata": {},
   "outputs": [],
   "source": [
    "feature_min = merged_sig[feature].min()\n",
    "feature_max = merged_sig[feature].max()\n",
    "\n",
    "feature_bins = np.linspace(feature_min, feature_max, 101)\n",
    "sig_bin_contents, sig_bin_edges = np.histogram(\n",
    "    merged_sig[feature],\n",
    "    bins=feature_bins,\n",
    "    density=True,\n",
    "    weights=merged_sig[\"WeightNormalized\"],\n",
    ")\n"
   ]
  },
  {
   "cell_type": "code",
   "execution_count": null,
   "metadata": {},
   "outputs": [],
   "source": [
    "fig, ax = plt.subplots()\n",
    "ax.set_xlim(feature_min, feature_max)\n",
    "hep.histplot(\n",
    "    sig_bin_contents, sig_bin_edges, label=\"Signal\", ax=ax, color=\"red\"\n",
    ")"
   ]
  },
  {
   "cell_type": "code",
   "execution_count": null,
   "metadata": {},
   "outputs": [],
   "source": [
    "np.where(sig_bin_edges>=0)[0]"
   ]
  },
  {
   "cell_type": "code",
   "execution_count": null,
   "metadata": {},
   "outputs": [],
   "source": [
    "idx = 60"
   ]
  },
  {
   "cell_type": "code",
   "execution_count": null,
   "metadata": {},
   "outputs": [],
   "source": [
    "sig_bin_contents[59]"
   ]
  },
  {
   "cell_type": "code",
   "execution_count": null,
   "metadata": {},
   "outputs": [],
   "source": [
    "sig_bin_contents[60]"
   ]
  },
  {
   "cell_type": "code",
   "execution_count": null,
   "metadata": {},
   "outputs": [],
   "source": [
    "sig_bin_edges[61]"
   ]
  },
  {
   "cell_type": "code",
   "execution_count": null,
   "metadata": {},
   "outputs": [],
   "source": [
    "sel = merged_sig.loc[(merged_sig['ZetaLep']>=sig_bin_edges[idx]) & (merged_sig['ZetaLep']<= sig_bin_edges[idx+1])]"
   ]
  },
  {
   "cell_type": "code",
   "execution_count": null,
   "metadata": {},
   "outputs": [],
   "source": [
    "sel_lastbin = merged_sig.loc[(merged_sig['ZetaLep']>=sig_bin_edges[idx-1]) & (merged_sig['ZetaLep']<= sig_bin_edges[idx])]\n",
    "sel_nextbin = merged_sig.loc[(merged_sig['ZetaLep']>=sig_bin_edges[idx+1]) & (merged_sig['ZetaLep']<= sig_bin_edges[idx+2])]"
   ]
  },
  {
   "cell_type": "code",
   "execution_count": null,
   "metadata": {},
   "outputs": [],
   "source": [
    "len(sel_lastbin)"
   ]
  },
  {
   "cell_type": "code",
   "execution_count": null,
   "metadata": {},
   "outputs": [],
   "source": [
    "len(sel_nextbin)"
   ]
  },
  {
   "cell_type": "code",
   "execution_count": null,
   "metadata": {},
   "outputs": [],
   "source": [
    "sel['ZetaLep']"
   ]
  },
  {
   "cell_type": "code",
   "execution_count": null,
   "metadata": {},
   "outputs": [],
   "source": [
    "plt.hist(sel['ZetaLep'], bins=100)"
   ]
  },
  {
   "cell_type": "code",
   "execution_count": null,
   "metadata": {},
   "outputs": [],
   "source": [
    "len(sel) / len(merged_sig) "
   ]
  },
  {
   "cell_type": "code",
   "execution_count": null,
   "metadata": {},
   "outputs": [],
   "source": [
    "len(sel)"
   ]
  },
  {
   "cell_type": "code",
   "execution_count": null,
   "metadata": {},
   "outputs": [],
   "source": [
    "len(merged_sig)"
   ]
  },
  {
   "cell_type": "code",
   "execution_count": null,
   "metadata": {},
   "outputs": [],
   "source": [
    "bin_width = sig_bin_edges[1] - sig_bin_edges[0]"
   ]
  },
  {
   "cell_type": "code",
   "execution_count": null,
   "metadata": {},
   "outputs": [],
   "source": [
    "np.sum(sel['WeightNormalized']) / merged_sig['WeightNormalized'].sum() / bin_width"
   ]
  },
  {
   "cell_type": "code",
   "execution_count": null,
   "metadata": {},
   "outputs": [],
   "source": [
    "np.max(sel['WeightNormalized'])"
   ]
  },
  {
   "cell_type": "code",
   "execution_count": null,
   "metadata": {},
   "outputs": [],
   "source": [
    "np.min(sel['WeightNormalized'])"
   ]
  },
  {
   "attachments": {},
   "cell_type": "markdown",
   "metadata": {},
   "source": [
    "``` cpp\n",
    "     if(var==\"ZetaLep\"){\n",
    "       double deltaEtaMinus = min((eventPtr->Lep3.p4).Eta(),min((eventPtr->Lep1.p4).Eta(),(eventPtr->Lep2.p4).Eta())) - min((eventPtr->jets.at(eventPtr->nGoodJets-1).p4).Eta(),(eventPtr->jets.at(eventPtr->nGoodJets-2).p4).Eta());\n",
    "       double deltaEtaPlus = max((eventPtr->jets.at(eventPtr->nGoodJets-1).p4).Eta(),(eventPtr->jets.at(eventPtr->nGoodJets-2).p4).Eta()) - max((eventPtr->Lep3.p4).Eta(),max((eventPtr->Lep1.p4).Eta(),(eventPtr->Lep2.p4).Eta()));\n",
    "       returnValue = min(deltaEtaMinus,deltaEtaPlus);\n",
    "     }\n",
    "\n",
    "```"
   ]
  },
  {
   "cell_type": "code",
   "execution_count": null,
   "metadata": {},
   "outputs": [],
   "source": [
    "merged_sig_by_MC = merged_sig.groupby('isMC')\n",
    "for MC_idx, MC_df in merged_sig_by_MC:\n",
    "    sig_bin_contents, sig_bin_edges = np.histogram(\n",
    "        merged_sig[feature],\n",
    "        bins=feature_bins,\n",
    "        density=True,\n",
    "        weights=merged_sig[\"WeightNormalized\"],\n",
    "    )\n",
    "\n",
    "    fig, ax = plt.subplots()\n",
    "    ax.set_xlim(feature_min, feature_max)\n",
    "    hep.histplot(\n",
    "        sig_bin_contents, sig_bin_edges, label=f\"{MC_idx} Signal\", ax=ax, color=\"red\"\n",
    "    )\n",
    "\n",
    "    ax.legend()\n"
   ]
  },
  {
   "attachments": {},
   "cell_type": "markdown",
   "metadata": {},
   "source": [
    "# Calculate Zeta by myself "
   ]
  },
  {
   "cell_type": "code",
   "execution_count": null,
   "metadata": {},
   "outputs": [],
   "source": [
    "delta_min = merged_sig[['Lep1Eta', 'Lep2Eta', 'Lep3Eta']].min(axis=1) - merged_sig[['Jet1Eta', 'Jet2Eta']].min(axis=1)\n",
    "delta_max = merged_sig[['Jet1Eta', 'Jet2Eta']].max(axis=1) - merged_sig[['Lep1Eta', 'Lep2Eta', 'Lep3Eta']].max(axis=1)\n",
    "merged_sig['Zeta_hr'] = pd.concat([delta_min, delta_max], axis=1, keys=['delta_min', 'delta_max']).min(axis=1)\n"
   ]
  },
  {
   "cell_type": "code",
   "execution_count": null,
   "metadata": {},
   "outputs": [],
   "source": [
    "np.allclose(merged_sig['ZetaLep'], merged_sig['Zeta_hr'])"
   ]
  },
  {
   "cell_type": "code",
   "execution_count": null,
   "metadata": {},
   "outputs": [],
   "source": [
    "sig_m450 = merged_sig_by_MC.get_group(450770)"
   ]
  },
  {
   "cell_type": "code",
   "execution_count": null,
   "metadata": {},
   "outputs": [],
   "source": [
    "delta_min = sig_m450[['Lep1Eta', 'Lep2Eta', 'Lep3Eta']].min(axis=1) - sig_m450[['Jet1Eta', 'Jet2Eta']].min(axis=1)\n",
    "delta_max = sig_m450[['Jet1Eta', 'Jet2Eta']].max(axis=1) - sig_m450[['Lep1Eta', 'Lep2Eta', 'Lep3Eta']].max(axis=1)\n"
   ]
  },
  {
   "cell_type": "code",
   "execution_count": null,
   "metadata": {},
   "outputs": [],
   "source": [
    "sig_m450['Zeta_hr'] = pd.concat([delta_min, delta_max], axis=1, keys=['delta_min', 'delta_max']).min(axis=1)"
   ]
  },
  {
   "cell_type": "code",
   "execution_count": null,
   "metadata": {},
   "outputs": [],
   "source": [
    "sig_m450[['Lep1Eta', 'Lep2Eta', 'Lep3Eta']]"
   ]
  },
  {
   "cell_type": "code",
   "execution_count": null,
   "metadata": {},
   "outputs": [],
   "source": []
  },
  {
   "cell_type": "code",
   "execution_count": 55,
   "metadata": {},
   "outputs": [
    {
     "data": {
      "text/plain": [
       "Index(['Yields', 'isMC', 'Channel', 'Year', 'NormSF', 'WeightSign',\n",
       "       'WeightNormalized', 'Weight', 'M_WZ', 'M_123', 'Mt_WZ', 'M_Z', 'Mt_W',\n",
       "       'Met', 'Njets', 'NBjets', 'SumOfWeight', 'Luminosity', 'CrossSection',\n",
       "       'WZInclusiveLoose', 'WZInclusive', 'WZqqSR', 'WZqqCR', 'WZVBSSR',\n",
       "       'WZVBSCR', 'ZfakeElCR', 'ZfakeMuCR', 'ZfakeCR', 'TopElCR', 'TopMuCR',\n",
       "       'TopCR', 'ZZCR', 'EventNumber', 'AvMu', 'M_jj', 'Deta_jj', 'DY_jj',\n",
       "       'Dphi_jj', 'PtBalanceZ', 'PtBalanceW', 'ZetaLep', 'Sum3Pt', 'Pt_123',\n",
       "       'Pt_WZ', 'Pt_W', 'Pt_Z', 'Eta_W', 'Eta_Z', 'LTcode', 'TruthType',\n",
       "       'genMass', 'Jet1Pt', 'Jet2Pt', 'Jet3Pt', 'Jet1Eta', 'Jet2Eta',\n",
       "       'Jet3Eta', 'Jet1Phi', 'Jet2Phi', 'Jet3Phi', 'Jet1E', 'Jet2E', 'Jet3E',\n",
       "       'Jet1Y', 'Jet2Y', 'Jet3Y', 'Jet1Truth', 'Jet2Truth', 'Jet3Truth',\n",
       "       'Lep1Pt', 'Lep2Pt', 'Lep3Pt', 'Lep1Eta', 'Lep2Eta', 'Lep3Eta',\n",
       "       'Lep1Phi', 'Lep2Phi', 'Lep3Phi', 'Lep1Charge', 'Lep2Charge',\n",
       "       'Lep3Charge', 'Lep1D0Sig', 'Lep2D0Sig', 'Lep3D0Sig', 'Lep1WeightZ',\n",
       "       'Lep2WeightZ', 'Lep3WeightZ', 'Lep1WeightW', 'Lep2WeightW',\n",
       "       'Lep3WeightW', 'Lep1Level', 'Lep2Level', 'Lep3Level', 'Ht',\n",
       "       'pSignal_GM', 'Event_JetTruth', 'AvMu_binidx'],\n",
       "      dtype='object')"
      ]
     },
     "execution_count": 55,
     "metadata": {},
     "output_type": "execute_result"
    }
   ],
   "source": [
    "merged_sig.columns"
   ]
  },
  {
   "cell_type": "code",
   "execution_count": 56,
   "metadata": {},
   "outputs": [],
   "source": [
    "merged_sig['Lep1R'] = np.sqrt(merged_sig['Lep1Eta']**2 + merged_sig['Lep1Phi']**2)\n",
    "merged_sig['Lep2R'] = np.sqrt(merged_sig['Lep2Eta']**2 + merged_sig['Lep2Phi']**2)\n",
    "merged_sig['Lep3R'] = np.sqrt(merged_sig['Lep3Eta']**2 + merged_sig['Lep3Phi']**2)\n",
    "\n",
    "merged_sig['Jet1R'] = np.sqrt(merged_sig['Jet1Eta']**2 + merged_sig['Jet1Phi']**2)\n",
    "merged_sig['Jet2R'] = np.sqrt(merged_sig['Jet2Eta']**2 + merged_sig['Jet2Phi']**2)\n"
   ]
  },
  {
   "cell_type": "code",
   "execution_count": 57,
   "metadata": {},
   "outputs": [],
   "source": [
    "merged_sig['dR_Lep1_Jet1'] = np.abs(merged_sig['Lep1R'] - merged_sig['Jet1R'])\n",
    "merged_sig['dR_Lep1_Jet2'] = np.abs(merged_sig['Lep1R'] - merged_sig['Jet2R'])\n",
    "merged_sig['dR_Lep2_Jet1'] = np.abs(merged_sig['Lep2R'] - merged_sig['Jet1R'])\n",
    "merged_sig['dR_Lep2_Jet2'] = np.abs(merged_sig['Lep2R'] - merged_sig['Jet2R'])\n",
    "merged_sig['dR_Lep3_Jet1'] = np.abs(merged_sig['Lep3R'] - merged_sig['Jet1R'])\n",
    "merged_sig['dR_Lep3_Jet2'] = np.abs(merged_sig['Lep3R'] - merged_sig['Jet2R'])\n"
   ]
  },
  {
   "cell_type": "code",
   "execution_count": 59,
   "metadata": {},
   "outputs": [
    {
     "data": {
      "text/html": [
       "<div>\n",
       "<style scoped>\n",
       "    .dataframe tbody tr th:only-of-type {\n",
       "        vertical-align: middle;\n",
       "    }\n",
       "\n",
       "    .dataframe tbody tr th {\n",
       "        vertical-align: top;\n",
       "    }\n",
       "\n",
       "    .dataframe thead th {\n",
       "        text-align: right;\n",
       "    }\n",
       "</style>\n",
       "<table border=\"1\" class=\"dataframe\">\n",
       "  <thead>\n",
       "    <tr style=\"text-align: right;\">\n",
       "      <th></th>\n",
       "      <th>dR_Lep1_Jet1</th>\n",
       "      <th>dR_Lep1_Jet2</th>\n",
       "      <th>dR_Lep2_Jet1</th>\n",
       "      <th>dR_Lep2_Jet2</th>\n",
       "      <th>dR_Lep3_Jet1</th>\n",
       "      <th>dR_Lep3_Jet2</th>\n",
       "    </tr>\n",
       "  </thead>\n",
       "  <tbody>\n",
       "    <tr>\n",
       "      <th>3</th>\n",
       "      <td>2.729578</td>\n",
       "      <td>0.401066</td>\n",
       "      <td>3.180768</td>\n",
       "      <td>0.852255</td>\n",
       "      <td>1.972422</td>\n",
       "      <td>0.356090</td>\n",
       "    </tr>\n",
       "    <tr>\n",
       "      <th>11</th>\n",
       "      <td>2.064535</td>\n",
       "      <td>1.158581</td>\n",
       "      <td>0.334550</td>\n",
       "      <td>0.571404</td>\n",
       "      <td>2.667006</td>\n",
       "      <td>1.761051</td>\n",
       "    </tr>\n",
       "    <tr>\n",
       "      <th>14</th>\n",
       "      <td>2.569289</td>\n",
       "      <td>3.618850</td>\n",
       "      <td>0.904761</td>\n",
       "      <td>1.954321</td>\n",
       "      <td>1.237123</td>\n",
       "      <td>2.286684</td>\n",
       "    </tr>\n",
       "    <tr>\n",
       "      <th>16</th>\n",
       "      <td>2.732799</td>\n",
       "      <td>0.010870</td>\n",
       "      <td>3.619586</td>\n",
       "      <td>0.897657</td>\n",
       "      <td>1.685784</td>\n",
       "      <td>1.036144</td>\n",
       "    </tr>\n",
       "    <tr>\n",
       "      <th>22</th>\n",
       "      <td>0.837969</td>\n",
       "      <td>1.102176</td>\n",
       "      <td>1.728708</td>\n",
       "      <td>1.992915</td>\n",
       "      <td>1.633997</td>\n",
       "      <td>1.898204</td>\n",
       "    </tr>\n",
       "    <tr>\n",
       "      <th>...</th>\n",
       "      <td>...</td>\n",
       "      <td>...</td>\n",
       "      <td>...</td>\n",
       "      <td>...</td>\n",
       "      <td>...</td>\n",
       "      <td>...</td>\n",
       "    </tr>\n",
       "    <tr>\n",
       "      <th>136522</th>\n",
       "      <td>2.266838</td>\n",
       "      <td>2.749968</td>\n",
       "      <td>1.800798</td>\n",
       "      <td>2.283928</td>\n",
       "      <td>1.275032</td>\n",
       "      <td>1.758162</td>\n",
       "    </tr>\n",
       "    <tr>\n",
       "      <th>136524</th>\n",
       "      <td>0.554781</td>\n",
       "      <td>0.910646</td>\n",
       "      <td>0.786864</td>\n",
       "      <td>0.678563</td>\n",
       "      <td>1.980840</td>\n",
       "      <td>0.515413</td>\n",
       "    </tr>\n",
       "    <tr>\n",
       "      <th>136525</th>\n",
       "      <td>4.088717</td>\n",
       "      <td>3.461045</td>\n",
       "      <td>4.556480</td>\n",
       "      <td>3.928808</td>\n",
       "      <td>1.694736</td>\n",
       "      <td>1.067064</td>\n",
       "    </tr>\n",
       "    <tr>\n",
       "      <th>136527</th>\n",
       "      <td>3.164472</td>\n",
       "      <td>1.839000</td>\n",
       "      <td>3.408416</td>\n",
       "      <td>2.082944</td>\n",
       "      <td>2.324828</td>\n",
       "      <td>0.999356</td>\n",
       "    </tr>\n",
       "    <tr>\n",
       "      <th>136528</th>\n",
       "      <td>2.196985</td>\n",
       "      <td>1.547778</td>\n",
       "      <td>2.048748</td>\n",
       "      <td>1.399541</td>\n",
       "      <td>0.768811</td>\n",
       "      <td>0.119604</td>\n",
       "    </tr>\n",
       "  </tbody>\n",
       "</table>\n",
       "<p>868074 rows × 6 columns</p>\n",
       "</div>"
      ],
      "text/plain": [
       "        dR_Lep1_Jet1  dR_Lep1_Jet2  dR_Lep2_Jet1  dR_Lep2_Jet2  dR_Lep3_Jet1   \n",
       "3           2.729578      0.401066      3.180768      0.852255      1.972422  \\\n",
       "11          2.064535      1.158581      0.334550      0.571404      2.667006   \n",
       "14          2.569289      3.618850      0.904761      1.954321      1.237123   \n",
       "16          2.732799      0.010870      3.619586      0.897657      1.685784   \n",
       "22          0.837969      1.102176      1.728708      1.992915      1.633997   \n",
       "...              ...           ...           ...           ...           ...   \n",
       "136522      2.266838      2.749968      1.800798      2.283928      1.275032   \n",
       "136524      0.554781      0.910646      0.786864      0.678563      1.980840   \n",
       "136525      4.088717      3.461045      4.556480      3.928808      1.694736   \n",
       "136527      3.164472      1.839000      3.408416      2.082944      2.324828   \n",
       "136528      2.196985      1.547778      2.048748      1.399541      0.768811   \n",
       "\n",
       "        dR_Lep3_Jet2  \n",
       "3           0.356090  \n",
       "11          1.761051  \n",
       "14          2.286684  \n",
       "16          1.036144  \n",
       "22          1.898204  \n",
       "...              ...  \n",
       "136522      1.758162  \n",
       "136524      0.515413  \n",
       "136525      1.067064  \n",
       "136527      0.999356  \n",
       "136528      0.119604  \n",
       "\n",
       "[868074 rows x 6 columns]"
      ]
     },
     "execution_count": 59,
     "metadata": {},
     "output_type": "execute_result"
    }
   ],
   "source": [
    "merged_sig[['dR_Lep1_Jet1', 'dR_Lep1_Jet2', 'dR_Lep2_Jet1', 'dR_Lep2_Jet2', 'dR_Lep3_Jet1', 'dR_Lep3_Jet2']]"
   ]
  },
  {
   "cell_type": "code",
   "execution_count": 61,
   "metadata": {},
   "outputs": [],
   "source": [
    "merged_sig['min_dR'] = np.min(merged_sig[['dR_Lep1_Jet1', 'dR_Lep1_Jet2', 'dR_Lep2_Jet1', 'dR_Lep2_Jet2', 'dR_Lep3_Jet1', 'dR_Lep3_Jet2']], axis=1)"
   ]
  },
  {
   "cell_type": "code",
   "execution_count": 72,
   "metadata": {},
   "outputs": [
    {
     "data": {
      "image/png": "[encoded data removed]",
      "text/plain": [
       "<Figure size 800x600 with 2 Axes>"
      ]
     },
     "metadata": {},
     "output_type": "display_data"
    }
   ],
   "source": [
    "fig, ax = plt.subplots(figsize=(8, 6))\n",
    "\n",
    "plt.hist2d(merged_sig['ZetaLep'], merged_sig['min_dR'], bins=100, weights=merged_sig['WeightNormalized'], cmap=plt.cm.Reds)\n",
    "plt.colorbar()\n",
    "plt.show()"
   ]
  },
  {
   "cell_type": "code",
   "execution_count": null,
   "metadata": {},
   "outputs": [],
   "source": []
  }
 ],
 "metadata": {
  "kernelspec": {
   "display_name": "ml",
   "language": "python",
   "name": "python3"
  },
  "language_info": {
   "codemirror_mode": {
    "name": "ipython",
    "version": 3
   },
   "file_extension": ".py",
   "mimetype": "text/x-python",
   "name": "python",
   "nbconvert_exporter": "python",
   "pygments_lexer": "ipython3",
   "version": "3.10.10"
  },
  "orig_nbformat": 4
 },
 "nbformat": 4,
 "nbformat_minor": 2
}
